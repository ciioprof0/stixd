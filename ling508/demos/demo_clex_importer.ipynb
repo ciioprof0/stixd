{
 "cells": [
  {
   "cell_type": "markdown",
   "metadata": {},
   "source": [
    "#### Instructions for Running this Notebook\n",
    "\n",
    "- **Initial Setup:** If you are running this notebook for the first time, install the necessary Python packages by executing the following command in your terminal:\n",
    "```bash\n",
    "        pip install -r ../demos/requirements.txt\n",
    "```\n",
    "\n",
    "- **Troubleshooting:** If you encounter any issues or failed tests while running the notebook, restart the kernel and try running the cells again. This can often resolve state-related problems."
   ]
  },
  {
   "cell_type": "code",
   "execution_count": 1,
   "metadata": {},
   "outputs": [],
   "source": [
    "# Import Standard Libraries\n",
    "import os\n",
    "import sys\n",
    "import multiprocessing\n",
    "\n",
    "# Import Third Party Libraries\n",
    "from flask import Flask, request, jsonify\n",
    "from IPython.display import IFrame, display\n",
    "import pytest\n",
    "\n",
    "# Get the current working directory (CWD)\n",
    "cwd = os.getcwd()\n",
    "# Move up two levels to reach the stixd directory\n",
    "stixd_path = os.path.abspath(os.path.join(cwd, '..', '..'))\n",
    "# Append the stixd directory to the Python path\n",
    "sys.path.append(stixd_path)\n",
    "\n",
    "# Import Local Libraries\n",
    "from ling508.api import app"
   ]
  },
  {
   "cell_type": "code",
   "execution_count": 2,
   "metadata": {},
   "outputs": [],
   "source": [
    "# Define Global Variables\n",
    "\n",
    "# Define the path to /tests directory\n",
    "TEST_DIR = os.path.join(os.getcwd(), '../tests')\n",
    "\n",
    "# Define pytest verbosity level\n",
    "VERBOSITY = '-q' # Quiet\n",
    "# VERBOSITY = '-v' # Verbose\n",
    "# VERBOSITY = '-vv' # More verbose\n",
    "# VERBOSITY = '-vvv' # Even more verbose\n",
    "\n",
    "# Define pytest traceback level\n",
    "TRACEBACK = '--tb=auto' # Default\n",
    "# TRACEBACK = '--tb=short' # Short\n",
    "# TRACEBACK = '--tb=long' # Long\n",
    "# TRACEBACK = '--tb=line' # One line\n",
    "# TRACEBACK = '--tb=native' # Python standard\n",
    "# TRACEBACK = '--tb=no' # No traceback"
   ]
  },
  {
   "cell_type": "markdown",
   "metadata": {},
   "source": [
    "# Demonstration of STIX-D's Clex Importer Tool"
   ]
  },
  {
   "cell_type": "markdown",
   "metadata": {},
   "source": [
    "## Use Case"
   ]
  },
  {
   "cell_type": "markdown",
   "metadata": {},
   "source": [
    "The STIX-D Use Case L1 involves seeding the `stixd_corpus.lexicon` database table with lexical entries from the ACE Common Lexicon (Clex) or similar files. An administrator provides a URI to the lexicon file, and the system connects to the local database via the `mysql_repository.py` module. For each line in the lexicon file, the system extracts relevant character strings to create a word tag and form, generates a SHA256 hash of these components, and checks for the hash in the `lexicon` table. If the hash exists, it links the existing entry with a source ID; if not, it creates a new entry. The system also imports additional arguments into appropriate fields and outputs summary information or error messages as necessary."
   ]
  },
  {
   "cell_type": "markdown",
   "metadata": {},
   "source": [
    "## Code Execution"
   ]
  },
  {
   "cell_type": "code",
   "execution_count": null,
   "metadata": {},
   "outputs": [],
   "source": []
  },
  {
   "cell_type": "markdown",
   "metadata": {},
   "source": [
    "## Project Design"
   ]
  },
  {
   "cell_type": "markdown",
   "metadata": {},
   "source": [
    "### Project Overview\n",
    "The Clex Importer tool imports data from the Attempto Controlled English (ACE) lexicon file, stored as Prolog facts, into the `lexicon` table of the STIX-D MySQL database. This tool is accessible via a web form served by a Flask API, where users input a URL pointing to an ACE lexicon file. The system then parses the each Prolog fact and maps it to the appropriate attributes in the `lexicon` table. Additionally, the tool can be executed from the command line or integrated into other applications."
   ]
  },
  {
   "cell_type": "markdown",
   "metadata": {},
   "source": [
    "### OOP Principles in the Project\n",
    "This project is designed using object-oriented programming (OOP) principles to create a modular, extensible, and maintainable system. The key OOP principles in the project are as follows:\n",
    "\n",
    "- **Abstraction**: The project uses abstract classes and methods to define interfaces and enforce a common structure. For example, the Repository class defines abstract methods for interacting with the database, which are implemented by MySQLRepository.\n",
    "- **Encapsulation**: Each class is responsible for a specific aspect of the project, encapsulating related data and behavior. For example, ClexImporter encapsulates the logic for importing Clex entries, while MySQLRepository encapsulates database interactions.\n",
    "- **Inheritance**: The project uses inheritance to create a hierarchy of classes with shared behavior. For example, MySQLRepository inherits from Repository to reuse common database interaction methods.\n",
    "- **Polymorphism**: The project uses polymorphism to allow different classes to be used interchangeably. For example, the Repository interface allows different types of repositories to be used with the ClexImporter."
   ]
  },
  {
   "cell_type": "markdown",
   "metadata": {},
   "source": [
    "### Key Modules and Their OOP Design\n",
    "The project consists of the following key modules, each designed using OOP principles:"
   ]
  },
  {
   "cell_type": "markdown",
   "metadata": {},
   "source": [
    "- **`ClexImporter` Class in `clex_importer.py`**: \n",
    "    - **Responsibility**: Manages the importation of Clex entries into the database.\n",
    "    - **Attributes**:\n",
    "        - `db_repo`: Represents the database repository where Clex entries will be stored.\n",
    "        - `uri`: The location of the Clex file to be imported.\n",
    "    - **Methods**:\n",
    "        - `import_clex_entries()`: Imports Clex entries from the specified file into the database.\n",
    "        - `parse_clex_entry()`: Parses a single Clex entry from the file.\n",
    "        - `map_clex_entry_to_lexicon()`: Maps the parsed Clex entry to the `lexicon` table schema."
   ]
  },
  {
   "cell_type": "markdown",
   "metadata": {},
   "source": [
    "- **`MySQLRepository` Class in `mysql_repository.py`**: \n",
    "    - **Responsibility**: Abstracts the database interactions for MySQL databases.\n",
    "    - **Attributes**:\n",
    "        - `connection`: Represents the connection to the MySQL database.\n",
    "        - `table_name`: The name of the table in the database.\n",
    "    - **Methods**:\n",
    "        - `create_table()`: Creates the table in the database."
   ]
  },
  {
   "cell_type": "markdown",
   "metadata": {},
   "source": [
    "- **MySQLRepository**: Contains the MySQLRepository class, which implements the Repository interface for interacting with a MySQL database. The class uses the mysql-connector-python library to connect to the database and execute queries."
   ]
  },
  {
   "cell_type": "markdown",
   "metadata": {},
   "source": [
    "- **DocumentManager**: Contains the DocumentManager class, which provides methods for reading and writing files. The class is used by the ClexImporter to read the lexicon file."
   ]
  },
  {
   "cell_type": "markdown",
   "metadata": {},
   "source": [
    "- **NLPProcessor**: Contains the NLPProcessor class, which provides methods for processing natural language text. The class is used by the ClexImporter to extract information from the lexicon file."
   ]
  },
  {
   "cell_type": "markdown",
   "metadata": {},
   "source": [
    "## Code Interaction with Database"
   ]
  },
  {
   "cell_type": "code",
   "execution_count": 3,
   "metadata": {},
   "outputs": [],
   "source": [
    "# Run Flask in a separate process\n",
    "def run_flask():\n",
    "    app.run(port=5000, debug=True, use_reloader=False)\n",
    "\n",
    "flask_process = multiprocessing.Process(target=run_flask)\n",
    "flask_process.start()"
   ]
  },
  {
   "cell_type": "code",
   "execution_count": 4,
   "metadata": {},
   "outputs": [
    {
     "data": {
      "text/html": [
       "\n",
       "        <iframe\n",
       "            width=\"640\"\n",
       "            height=\"480\"\n",
       "            src=\"http://localhost:5000/ling508/web/stixd.html\"\n",
       "            frameborder=\"0\"\n",
       "            allowfullscreen\n",
       "            \n",
       "        ></iframe>\n",
       "        "
      ],
      "text/plain": [
       "<IPython.lib.display.IFrame at 0x1c3a2bfd160>"
      ]
     },
     "metadata": {},
     "output_type": "display_data"
    }
   ],
   "source": [
    "# Display the HTML form served by Flask\n",
    "display(IFrame(\"http://localhost:5000/ling508/web/stixd.html\", width=640, height=480))"
   ]
  },
  {
   "cell_type": "markdown",
   "metadata": {},
   "source": [
    "## Test Cases"
   ]
  },
  {
   "cell_type": "markdown",
   "metadata": {},
   "source": [
    "### All Test Cases"
   ]
  },
  {
   "cell_type": "code",
   "execution_count": 5,
   "metadata": {},
   "outputs": [
    {
     "name": "stdout",
     "output_type": "stream",
     "text": [
      "\u001b[32m.\u001b[0m\u001b[32m.\u001b[0m\u001b[32m.\u001b[0m\u001b[32m.\u001b[0m\u001b[32m.\u001b[0m\u001b[32m.\u001b[0m\u001b[32m.\u001b[0m\u001b[32m.\u001b[0m\u001b[32m.\u001b[0m\u001b[32m.\u001b[0m\u001b[32m.\u001b[0m\u001b[32m.\u001b[0m\u001b[32m.\u001b[0m\u001b[32m.\u001b[0m\u001b[32m.\u001b[0m\u001b[32m.\u001b[0m\u001b[32m.\u001b[0m\u001b[32m.\u001b[0m\u001b[32m.\u001b[0m\u001b[32m.\u001b[0m\u001b[32m.\u001b[0m\u001b[32m.\u001b[0m\u001b[32m.\u001b[0m\u001b[32m.\u001b[0m\u001b[32m.\u001b[0m\u001b[32m.\u001b[0m\u001b[32m.\u001b[0m\u001b[32m.\u001b[0m\u001b[32m.\u001b[0m\u001b[32m.\u001b[0m\u001b[32m.\u001b[0m\u001b[32m.\u001b[0m\u001b[32m                                         [100%]\u001b[0m\n",
      "\u001b[32m\u001b[32m\u001b[1m32 passed\u001b[0m\u001b[32m in 37.85s\u001b[0m\u001b[0m\n"
     ]
    },
    {
     "data": {
      "text/plain": [
       "<ExitCode.OK: 0>"
      ]
     },
     "execution_count": 5,
     "metadata": {},
     "output_type": "execute_result"
    }
   ],
   "source": [
    "# Run all tests in the test directory (~30-60 seconds)\n",
    "pytest.main([TEST_DIR, VERBOSITY, TRACEBACK])\n"
   ]
  },
  {
   "cell_type": "markdown",
   "metadata": {},
   "source": [
    "### Test Case 10: doc_scrapper"
   ]
  },
  {
   "cell_type": "code",
   "execution_count": 6,
   "metadata": {},
   "outputs": [],
   "source": [
    "# Run a specific test file in the test directory\n",
    "# test_file = \"test_10_doc_scrapper.py\"\n",
    "# pytest.main([os.path.join(TEST_DIR, test_file), \"-v\", \"--tb=line\"])\n"
   ]
  },
  {
   "cell_type": "markdown",
   "metadata": {},
   "source": [
    "### Test Case 20: gen_clex_uuid"
   ]
  },
  {
   "cell_type": "code",
   "execution_count": 7,
   "metadata": {},
   "outputs": [],
   "source": [
    "# Run a specific test file in the test directory\n",
    "# test_file = \"test_20_gen_clex_uuid.py\"\n",
    "# pytest.main([os.path.join(TEST_DIR, test_file), \"-v\", \"--tb=line\"])\n"
   ]
  },
  {
   "cell_type": "markdown",
   "metadata": {},
   "source": [
    "### Test Case 30: mysql_repo"
   ]
  },
  {
   "cell_type": "code",
   "execution_count": 8,
   "metadata": {},
   "outputs": [],
   "source": [
    "# Run a specific test file in the test directory\n",
    "# test_file = \"test_30_mysql_repo.py\"\n",
    "# pytest.main([os.path.join(TEST_DIR, test_file), \"-v\", \"--tb=line\"])\n"
   ]
  },
  {
   "cell_type": "markdown",
   "metadata": {},
   "source": [
    "### Test Case 40: nlp_manager"
   ]
  },
  {
   "cell_type": "code",
   "execution_count": 9,
   "metadata": {},
   "outputs": [],
   "source": [
    "# Run a specific test file in the test directory\n",
    "# test_file = \"test_40_nlp_manager.py\"\n",
    "# pytest.main([os.path.join(TEST_DIR, test_file), \"-v\", \"--tb=line\"])\n"
   ]
  },
  {
   "cell_type": "markdown",
   "metadata": {},
   "source": [
    "### Test Case 50: doc_manager"
   ]
  },
  {
   "cell_type": "code",
   "execution_count": 10,
   "metadata": {},
   "outputs": [],
   "source": [
    "# Run a specific test file in the test directory\n",
    "# test_file = \"test_50_doc_manager.py\"\n",
    "# pytest.main([os.path.join(TEST_DIR, test_file), \"-v\", \"--tb=line\"])\n"
   ]
  },
  {
   "cell_type": "markdown",
   "metadata": {},
   "source": [
    "### Test Case 53: sent_manager"
   ]
  },
  {
   "cell_type": "code",
   "execution_count": 11,
   "metadata": {},
   "outputs": [],
   "source": [
    "# Run a specific test file in the test directory\n",
    "# test_file = \"test_53_sent_manager.py\"\n",
    "# pytest.main([os.path.join(TEST_DIR, test_file), \"-v\", \"--tb=line\"])\n"
   ]
  },
  {
   "cell_type": "markdown",
   "metadata": {},
   "source": [
    "### Test Case 57: lexicon_manager"
   ]
  },
  {
   "cell_type": "code",
   "execution_count": 12,
   "metadata": {},
   "outputs": [],
   "source": [
    "# Run a specific test file in the test directory\n",
    "# test_file = \"test_57_lexicon_manager.py\"\n",
    "# pytest.main([os.path.join(TEST_DIR, test_file), \"-v\", \"--tb=line\"])\n"
   ]
  },
  {
   "cell_type": "markdown",
   "metadata": {},
   "source": [
    "### Test Case 70: clex_importer_local"
   ]
  },
  {
   "cell_type": "code",
   "execution_count": 13,
   "metadata": {},
   "outputs": [],
   "source": [
    "# Run a specific test file in the test directory (~ 10 seconds)\n",
    "# test_file = \"test_70_clex_importer_local.py\"\n",
    "# pytest.main([os.path.join(TEST_DIR, test_file), \"-v\", \"--tb=line\"])\n"
   ]
  },
  {
   "cell_type": "markdown",
   "metadata": {},
   "source": [
    "### Test Case 75: clex_importer_ci"
   ]
  },
  {
   "cell_type": "code",
   "execution_count": 14,
   "metadata": {},
   "outputs": [
    {
     "name": "stdout",
     "output_type": "stream",
     "text": [
      "\u001b[1m============================= test session starts =============================\u001b[0m\n",
      "platform win32 -- Python 3.12.4, pytest-8.3.2, pluggy-1.5.0 -- d:\\OneDrive\\Code\\hltms\\stixd\\.venv\\Scripts\\python.exe\n",
      "cachedir: .pytest_cache\n",
      "rootdir: d:\\OneDrive\\Code\\hltms\\stixd\n",
      "configfile: pytest.ini\n",
      "plugins: anyio-4.4.0, mock-3.14.0\n",
      "\u001b[1mcollecting ... \u001b[0mcollected 1 item\n",
      "\n",
      "..\\tests\\test_75_clex_importer_ci.py::test_import_clex_entries \u001b[32mPASSED\u001b[0m\u001b[32m    [100%]\u001b[0m\n",
      "\n",
      "\u001b[32m============================== \u001b[32m\u001b[1m1 passed\u001b[0m\u001b[32m in 0.05s\u001b[0m\u001b[32m ==============================\u001b[0m\n"
     ]
    },
    {
     "data": {
      "text/plain": [
       "<ExitCode.OK: 0>"
      ]
     },
     "execution_count": 14,
     "metadata": {},
     "output_type": "execute_result"
    }
   ],
   "source": [
    "# Run a specific test file in the test directory\n",
    "test_file = \"test_75_clex_importer_ci.py\"\n",
    "pytest.main([os.path.join(TEST_DIR, test_file), \"-v\", \"--tb=auto\"])\n"
   ]
  },
  {
   "cell_type": "markdown",
   "metadata": {},
   "source": [
    "### Test Case 80: api"
   ]
  },
  {
   "cell_type": "code",
   "execution_count": null,
   "metadata": {},
   "outputs": [],
   "source": [
    "# Run a specific test file in the test directory\n",
    "# test_file = \"test_80_api.py\"\n",
    "# pytest.main([os.path.join(TEST_DIR, test_file), \"-v\", \"--tb=line\"])\n"
   ]
  },
  {
   "cell_type": "markdown",
   "metadata": {},
   "source": [
    "### Test Case 90: e2e_local"
   ]
  },
  {
   "cell_type": "code",
   "execution_count": null,
   "metadata": {},
   "outputs": [],
   "source": [
    "# Run a specific test file in the test directory (~15 seconds)\n",
    "# test_file = \"test_90_e2e_local.py\"\n",
    "# pytest.main([os.path.join(TEST_DIR, test_file), \"-v\", \"--tb=auto\"])\n"
   ]
  },
  {
   "cell_type": "markdown",
   "metadata": {},
   "source": [
    "### Test Case 95: e2e_ci"
   ]
  },
  {
   "cell_type": "code",
   "execution_count": null,
   "metadata": {},
   "outputs": [],
   "source": [
    "# Run a specific test file in the test directory (~15 seconds)\n",
    "# test_file = \"test_95_e2e_ci.py\"\n",
    "# pytest.main([os.path.join(TEST_DIR, test_file), \"-v\", \"--tb=line\"])\n"
   ]
  },
  {
   "cell_type": "code",
   "execution_count": null,
   "metadata": {},
   "outputs": [],
   "source": []
  }
 ],
 "metadata": {
  "kernelspec": {
   "display_name": ".venv",
   "language": "python",
   "name": "python3"
  },
  "language_info": {
   "codemirror_mode": {
    "name": "ipython",
    "version": 3
   },
   "file_extension": ".py",
   "mimetype": "text/x-python",
   "name": "python",
   "nbconvert_exporter": "python",
   "pygments_lexer": "ipython3",
   "version": "3.12.4"
  }
 },
 "nbformat": 4,
 "nbformat_minor": 2
}
