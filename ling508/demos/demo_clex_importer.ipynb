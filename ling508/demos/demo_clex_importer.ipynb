{
 "cells": [
  {
   "cell_type": "markdown",
   "metadata": {},
   "source": [
    "#### Instructions for Running this Notebook\n",
    "\n",
    "- **Initial Setup:** If you are running this notebook for the first time, install the necessary Python packages by executing the following command in your terminal:\n",
    "```bash\n",
    "        pip install -r ../demos/requirements.txt\n",
    "```\n",
    "\n",
    "- **Troubleshooting:** If you encounter any issues or failed tests while running the notebook, restart the kernel and try running the cells again. This can often resolve state-related problems."
   ]
  },
  {
   "cell_type": "code",
   "execution_count": 1,
   "metadata": {},
   "outputs": [],
   "source": [
    "# Import Standard Libraries\n",
    "import os\n",
    "import sys\n",
    "import multiprocessing\n",
    "\n",
    "# Import Third Party Libraries\n",
    "from flask import Flask, request, jsonify\n",
    "from IPython.display import IFrame, display\n",
    "import pytest\n",
    "\n",
    "# Get the current working directory (CWD)\n",
    "cwd = os.getcwd()\n",
    "# Move up two levels to reach the stixd directory\n",
    "stixd_path = os.path.abspath(os.path.join(cwd, '..', '..'))\n",
    "# Append the stixd directory to the Python path\n",
    "sys.path.append(stixd_path)\n",
    "\n",
    "# Import Local Libraries\n",
    "from ling508.api import app"
   ]
  },
  {
   "cell_type": "code",
   "execution_count": 2,
   "metadata": {},
   "outputs": [],
   "source": [
    "# Define Global Variables\n",
    "\n",
    "# Define the path to /tests directory\n",
    "TEST_DIR = os.path.join(os.getcwd(), '../tests')\n",
    "\n",
    "# Define pytest verbosity level\n",
    "VERBOSITY = '-q' # Quiet\n",
    "# VERBOSITY = '-v' # Verbose\n",
    "# VERBOSITY = '-vv' # More verbose\n",
    "# VERBOSITY = '-vvv' # Even more verbose\n",
    "\n",
    "# Define pytest traceback level\n",
    "# TRACEBACK = '--tb=auto' # Default\n",
    "# TRACEBACK = '--tb=short' # Short\n",
    "# TRACEBACK = '--tb=long' # Long\n",
    "TRACEBACK = '--tb=line' # One line\n",
    "# TRACEBACK = '--tb=native' # Python standard\n",
    "# TRACEBACK = '--tb=no' # No traceback"
   ]
  },
  {
   "cell_type": "markdown",
   "metadata": {},
   "source": [
    "# Demonstration of STIX-D's Clex Importer Tool"
   ]
  },
  {
   "cell_type": "markdown",
   "metadata": {},
   "source": [
    "## Use Case"
   ]
  },
  {
   "cell_type": "markdown",
   "metadata": {},
   "source": [
    "The STIX-D Use Case L1 involves seeding the `stixd_corpus.lexicon` database table with lexical entries from the ACE Common Lexicon (Clex) or similar files. An administrator provides a URI to the lexicon file, and the system connects to the local database via the `mysql_repository.py` module. For each line in the lexicon file, the system extracts relevant character strings to create a word tag and form, generates a SHA256 hash of these components, and checks for the hash in the `lexicon` table. If the hash exists, it links the existing entry with a source ID; if not, it creates a new entry. The system also imports additional arguments into appropriate fields and outputs summary information or error messages as necessary."
   ]
  },
  {
   "cell_type": "markdown",
   "metadata": {},
   "source": [
    "## Code Execution"
   ]
  },
  {
   "cell_type": "code",
   "execution_count": 3,
   "metadata": {},
   "outputs": [
    {
     "name": "stdout",
     "output_type": "stream",
     "text": [
      "Saved STIX object with ID: x-stixd-clex--a9a1d469-5a00-4c28-a4e3-8b3701c6868b\n",
      "Generated hash: 67e9b1c5cbd53045919deda792be49b18b41a09b3bd328f9cc406bb27d951f62 for adv - fast\n",
      "Inserted entry with lex_id: 1 into lexicon\n",
      "Linking lex_id 1 with stix_object_id x-stixd-clex--a9a1d469-5a00-4c28-a4e3-8b3701c6868b\n",
      "Successfully linked lex_id 1 with stix_uuid x-stixd-clex--a9a1d469-5a00-4c28-a4e3-8b3701c6868b\n",
      "Generated hash: 38a31bf0527ff6fd23c6be74bfba58c46dbad709ce90b6d09b9a26f103a326b5 for adv_comp - faster\n",
      "Inserted entry with lex_id: 2 into lexicon\n",
      "Linking lex_id 2 with stix_object_id x-stixd-clex--a9a1d469-5a00-4c28-a4e3-8b3701c6868b\n",
      "Successfully linked lex_id 2 with stix_uuid x-stixd-clex--a9a1d469-5a00-4c28-a4e3-8b3701c6868b\n",
      "Generated hash: 55fee0f355e343b2c6a4d63b72a8ea8bcaa1a71698ada04e01533a8dc98fb4ee for adv_sup - fastest\n",
      "Inserted entry with lex_id: 3 into lexicon\n",
      "Linking lex_id 3 with stix_object_id x-stixd-clex--a9a1d469-5a00-4c28-a4e3-8b3701c6868b\n",
      "Successfully linked lex_id 3 with stix_uuid x-stixd-clex--a9a1d469-5a00-4c28-a4e3-8b3701c6868b\n",
      "Generated hash: b0a248290b9aa18bfbbbfd5367dc0cc0dc82a9e90dd83b88cce59361b8d67e8a for adv - quickly\n",
      "Inserted entry with lex_id: 4 into lexicon\n",
      "Linking lex_id 4 with stix_object_id x-stixd-clex--a9a1d469-5a00-4c28-a4e3-8b3701c6868b\n",
      "Successfully linked lex_id 4 with stix_uuid x-stixd-clex--a9a1d469-5a00-4c28-a4e3-8b3701c6868b\n",
      "Generated hash: bbe9bafa7a2a6e250fdf482a7c46217d7c63ccee917b3ae48324b61659c7e32d for adj_itr - large\n",
      "Inserted entry with lex_id: 5 into lexicon\n",
      "Linking lex_id 5 with stix_object_id x-stixd-clex--a9a1d469-5a00-4c28-a4e3-8b3701c6868b\n",
      "Successfully linked lex_id 5 with stix_uuid x-stixd-clex--a9a1d469-5a00-4c28-a4e3-8b3701c6868b\n",
      "Generated hash: bf10c6415fdedfef6bb41e276ee11b5411b9735e04279a725fd1e10f73efd5a3 for adj_itr_comp - larger\n",
      "Inserted entry with lex_id: 6 into lexicon\n",
      "Linking lex_id 6 with stix_object_id x-stixd-clex--a9a1d469-5a00-4c28-a4e3-8b3701c6868b\n",
      "Successfully linked lex_id 6 with stix_uuid x-stixd-clex--a9a1d469-5a00-4c28-a4e3-8b3701c6868b\n",
      "Generated hash: 272e32e00264453eae65c42e85ebd4e63d2050652adf2a83e6251f58d44c1f80 for adj_itr_sup - largest\n",
      "Inserted entry with lex_id: 7 into lexicon\n",
      "Linking lex_id 7 with stix_object_id x-stixd-clex--a9a1d469-5a00-4c28-a4e3-8b3701c6868b\n",
      "Successfully linked lex_id 7 with stix_uuid x-stixd-clex--a9a1d469-5a00-4c28-a4e3-8b3701c6868b\n",
      "Generated hash: 0a071608bacedfe582720a7eac91a086c2fd4b8310886756596e55a19831f1b2 for adj_itr - expensive\n",
      "Inserted entry with lex_id: 8 into lexicon\n",
      "Linking lex_id 8 with stix_object_id x-stixd-clex--a9a1d469-5a00-4c28-a4e3-8b3701c6868b\n",
      "Successfully linked lex_id 8 with stix_uuid x-stixd-clex--a9a1d469-5a00-4c28-a4e3-8b3701c6868b\n",
      "Generated hash: 3185ec15fd8fee48b0ce5f3cf0702e7342b8a79e924b9560672d46f85b57cf0d for adj_tr - valid-for\n",
      "Inserted entry with lex_id: 9 into lexicon\n",
      "Linking lex_id 9 with stix_object_id x-stixd-clex--a9a1d469-5a00-4c28-a4e3-8b3701c6868b\n",
      "Successfully linked lex_id 9 with stix_uuid x-stixd-clex--a9a1d469-5a00-4c28-a4e3-8b3701c6868b\n",
      "Generated hash: bea4050ddc4a98586180049a5701670bfda43dfb33a9e9d439e09ea6658d8b49 for adj_tr - fond-of\n",
      "Inserted entry with lex_id: 10 into lexicon\n",
      "Linking lex_id 10 with stix_object_id x-stixd-clex--a9a1d469-5a00-4c28-a4e3-8b3701c6868b\n",
      "Successfully linked lex_id 10 with stix_uuid x-stixd-clex--a9a1d469-5a00-4c28-a4e3-8b3701c6868b\n",
      "Generated hash: f9af59d37b5027585c5c367ff09c9ae6c9a9c2a572f0c2c6e31cb7a477803f70 for adj_tr_comp - fonder-of\n",
      "Inserted entry with lex_id: 11 into lexicon\n",
      "Linking lex_id 11 with stix_object_id x-stixd-clex--a9a1d469-5a00-4c28-a4e3-8b3701c6868b\n",
      "Successfully linked lex_id 11 with stix_uuid x-stixd-clex--a9a1d469-5a00-4c28-a4e3-8b3701c6868b\n",
      "Generated hash: 0593075d289bc5204293471f2179dcb02b688666ab3f0609dc0707038bda6c19 for adj_tr_sup - fondest-of\n",
      "Inserted entry with lex_id: 12 into lexicon\n",
      "Linking lex_id 12 with stix_object_id x-stixd-clex--a9a1d469-5a00-4c28-a4e3-8b3701c6868b\n",
      "Successfully linked lex_id 12 with stix_uuid x-stixd-clex--a9a1d469-5a00-4c28-a4e3-8b3701c6868b\n",
      "Generated hash: ad8d6c20f19057bc423efd798ab1b7969e8d16b84175a5e1c8d6327f301c3555 for adj_tr - pessimistic-about\n",
      "Inserted entry with lex_id: 13 into lexicon\n",
      "Linking lex_id 13 with stix_object_id x-stixd-clex--a9a1d469-5a00-4c28-a4e3-8b3701c6868b\n",
      "Successfully linked lex_id 13 with stix_uuid x-stixd-clex--a9a1d469-5a00-4c28-a4e3-8b3701c6868b\n",
      "Generated hash: 81a4335048050be30cbe511f20aa06edd43edeace4e509c9dbe295d91f3d7c67 for noun_sg - woman\n",
      "Inserted entry with lex_id: 14 into lexicon\n",
      "Linking lex_id 14 with stix_object_id x-stixd-clex--a9a1d469-5a00-4c28-a4e3-8b3701c6868b\n",
      "Successfully linked lex_id 14 with stix_uuid x-stixd-clex--a9a1d469-5a00-4c28-a4e3-8b3701c6868b\n",
      "Generated hash: d94e7754776de6a607bd1401e97542788b8a5bcdd770a6743029ba3cb9281e9b for noun_pl - women\n",
      "Inserted entry with lex_id: 15 into lexicon\n",
      "Linking lex_id 15 with stix_object_id x-stixd-clex--a9a1d469-5a00-4c28-a4e3-8b3701c6868b\n",
      "Successfully linked lex_id 15 with stix_uuid x-stixd-clex--a9a1d469-5a00-4c28-a4e3-8b3701c6868b\n",
      "Generated hash: 3e750200b57ae141249f9a284aa994912f051b9cdaaabce0eab54d8f709786b4 for noun_sg - credit-card\n",
      "Inserted entry with lex_id: 16 into lexicon\n",
      "Linking lex_id 16 with stix_object_id x-stixd-clex--a9a1d469-5a00-4c28-a4e3-8b3701c6868b\n",
      "Successfully linked lex_id 16 with stix_uuid x-stixd-clex--a9a1d469-5a00-4c28-a4e3-8b3701c6868b\n",
      "Generated hash: ba1d673f62b614589363b57193e41fff0a55c16496de3390cd4bdebe05b66a5f for noun_pl - credit-cards\n",
      "Inserted entry with lex_id: 17 into lexicon\n",
      "Linking lex_id 17 with stix_object_id x-stixd-clex--a9a1d469-5a00-4c28-a4e3-8b3701c6868b\n",
      "Successfully linked lex_id 17 with stix_uuid x-stixd-clex--a9a1d469-5a00-4c28-a4e3-8b3701c6868b\n",
      "Generated hash: 7dd815d8b271ce4a800d0709cc47e4542ae83c20580fad16f0ce0ac47ab825cb for noun_sg - month\n",
      "Inserted entry with lex_id: 18 into lexicon\n",
      "Linking lex_id 18 with stix_object_id x-stixd-clex--a9a1d469-5a00-4c28-a4e3-8b3701c6868b\n",
      "Successfully linked lex_id 18 with stix_uuid x-stixd-clex--a9a1d469-5a00-4c28-a4e3-8b3701c6868b\n",
      "Generated hash: 6e7ab17fe3f242d10f360197f40646b443db6079d730e9d746c96824a2606336 for noun_pl - months\n",
      "Inserted entry with lex_id: 19 into lexicon\n",
      "Linking lex_id 19 with stix_object_id x-stixd-clex--a9a1d469-5a00-4c28-a4e3-8b3701c6868b\n",
      "Successfully linked lex_id 19 with stix_uuid x-stixd-clex--a9a1d469-5a00-4c28-a4e3-8b3701c6868b\n",
      "Generated hash: ab4b87413dcf986e3987394af66d8cd5b721d6e2e3414f0bf79b7180c496cffc for noun_mass - water\n",
      "Inserted entry with lex_id: 20 into lexicon\n",
      "Linking lex_id 20 with stix_object_id x-stixd-clex--a9a1d469-5a00-4c28-a4e3-8b3701c6868b\n",
      "Successfully linked lex_id 20 with stix_uuid x-stixd-clex--a9a1d469-5a00-4c28-a4e3-8b3701c6868b\n",
      "Generated hash: 1f47f35dd555019a4069f9ccbd73b6ca9aba50e65cba190c6c2234a0ec959550 for noun_mass - fear\n",
      "Inserted entry with lex_id: 21 into lexicon\n",
      "Linking lex_id 21 with stix_object_id x-stixd-clex--a9a1d469-5a00-4c28-a4e3-8b3701c6868b\n",
      "Successfully linked lex_id 21 with stix_uuid x-stixd-clex--a9a1d469-5a00-4c28-a4e3-8b3701c6868b\n",
      "Generated hash: 54eb36da1c2712a561a7f3d97ae4711be26e689a610a5b3bcc6cf8246b4bd328 for noun_mass - money\n",
      "Inserted entry with lex_id: 22 into lexicon\n",
      "Linking lex_id 22 with stix_object_id x-stixd-clex--a9a1d469-5a00-4c28-a4e3-8b3701c6868b\n",
      "Successfully linked lex_id 22 with stix_uuid x-stixd-clex--a9a1d469-5a00-4c28-a4e3-8b3701c6868b\n",
      "Generated hash: f0f05c2c9d5fbbca1a49caaf36e02cabd3e8008b6ba2e06dd4f3ad5af3fc6778 for mn_sg - kg\n",
      "Inserted entry with lex_id: 23 into lexicon\n",
      "Linking lex_id 23 with stix_object_id x-stixd-clex--a9a1d469-5a00-4c28-a4e3-8b3701c6868b\n",
      "Successfully linked lex_id 23 with stix_uuid x-stixd-clex--a9a1d469-5a00-4c28-a4e3-8b3701c6868b\n",
      "Generated hash: 4062f60546af1df473dca3885c5678bceba6f846a393bde85c9f062dd7b3e4e9 for mn_pl - kg\n",
      "Inserted entry with lex_id: 24 into lexicon\n",
      "Linking lex_id 24 with stix_object_id x-stixd-clex--a9a1d469-5a00-4c28-a4e3-8b3701c6868b\n",
      "Successfully linked lex_id 24 with stix_uuid x-stixd-clex--a9a1d469-5a00-4c28-a4e3-8b3701c6868b\n",
      "Generated hash: 355a5ac057c3579401933c1edab57acd83c4fff5af52b235fe6a6487740e7266 for mn_sg - m\n",
      "Inserted entry with lex_id: 25 into lexicon\n",
      "Linking lex_id 25 with stix_object_id x-stixd-clex--a9a1d469-5a00-4c28-a4e3-8b3701c6868b\n",
      "Successfully linked lex_id 25 with stix_uuid x-stixd-clex--a9a1d469-5a00-4c28-a4e3-8b3701c6868b\n",
      "Generated hash: bd00a278eb02fcda5e6953929b33fb7b722616288a41ffec7e161932b00a4f28 for mn_pl - m\n",
      "Inserted entry with lex_id: 26 into lexicon\n",
      "Linking lex_id 26 with stix_object_id x-stixd-clex--a9a1d469-5a00-4c28-a4e3-8b3701c6868b\n",
      "Successfully linked lex_id 26 with stix_uuid x-stixd-clex--a9a1d469-5a00-4c28-a4e3-8b3701c6868b\n",
      "Generated hash: 4dbd3783cd9aaba7e2c7b91cd8b7528fe090214cf231c438a2bbce6c469eae54 for mn_sg - °C\n",
      "Inserted entry with lex_id: 27 into lexicon\n",
      "Linking lex_id 27 with stix_object_id x-stixd-clex--a9a1d469-5a00-4c28-a4e3-8b3701c6868b\n",
      "Successfully linked lex_id 27 with stix_uuid x-stixd-clex--a9a1d469-5a00-4c28-a4e3-8b3701c6868b\n",
      "Generated hash: 0b159623ff61b9c0c6dcbade8aecbcf5a3ba43a5c78a7353af9d4fc9a89d387b for mn_pl - °C\n",
      "Inserted entry with lex_id: 28 into lexicon\n",
      "Linking lex_id 28 with stix_object_id x-stixd-clex--a9a1d469-5a00-4c28-a4e3-8b3701c6868b\n",
      "Successfully linked lex_id 28 with stix_uuid x-stixd-clex--a9a1d469-5a00-4c28-a4e3-8b3701c6868b\n",
      "Generated hash: cdb8203c69d244b96d0efc358b21bb7ecdfedaa377fc2d22174d202d514b60bd for pn_sg - John\n",
      "Inserted entry with lex_id: 29 into lexicon\n",
      "Linking lex_id 29 with stix_object_id x-stixd-clex--a9a1d469-5a00-4c28-a4e3-8b3701c6868b\n",
      "Successfully linked lex_id 29 with stix_uuid x-stixd-clex--a9a1d469-5a00-4c28-a4e3-8b3701c6868b\n",
      "Generated hash: c362d3b6c8f1563be3031c9a27e83307499ef757668783df75d1c2ade5a8dcdb for pn_sg - Nokia\n",
      "Inserted entry with lex_id: 30 into lexicon\n",
      "Linking lex_id 30 with stix_object_id x-stixd-clex--a9a1d469-5a00-4c28-a4e3-8b3701c6868b\n",
      "Successfully linked lex_id 30 with stix_uuid x-stixd-clex--a9a1d469-5a00-4c28-a4e3-8b3701c6868b\n",
      "Generated hash: b79f2d1e7257a89546b59cb6384c316c6a67b9090e0eb79e4945ab5203c5fcca for pndef_sg - Nile\n",
      "Inserted entry with lex_id: 31 into lexicon\n",
      "Linking lex_id 31 with stix_object_id x-stixd-clex--a9a1d469-5a00-4c28-a4e3-8b3701c6868b\n",
      "Successfully linked lex_id 31 with stix_uuid x-stixd-clex--a9a1d469-5a00-4c28-a4e3-8b3701c6868b\n",
      "Generated hash: 0ba13f88729a6598583fd0d63c2c946bbefb8e7084b49d1a6add9c13cd87615c for pndef_pl - United-Nations\n",
      "Inserted entry with lex_id: 32 into lexicon\n",
      "Linking lex_id 32 with stix_object_id x-stixd-clex--a9a1d469-5a00-4c28-a4e3-8b3701c6868b\n",
      "Successfully linked lex_id 32 with stix_uuid x-stixd-clex--a9a1d469-5a00-4c28-a4e3-8b3701c6868b\n",
      "Generated hash: ab1d4ceef2dea8b6524e093ed881a9b373c7399fdda1238c6d6a50e45cb2e5c1 for pn_sg - Mona-Lisa\n",
      "Inserted entry with lex_id: 33 into lexicon\n",
      "Linking lex_id 33 with stix_object_id x-stixd-clex--a9a1d469-5a00-4c28-a4e3-8b3701c6868b\n",
      "Successfully linked lex_id 33 with stix_uuid x-stixd-clex--a9a1d469-5a00-4c28-a4e3-8b3701c6868b\n",
      "Generated hash: 553a63ea05f5be1335cdbaf4776e9fefe7b739709bde3afbc52d13f90d7f0747 for pndef_sg - Mona-Lisa\n",
      "Inserted entry with lex_id: 34 into lexicon\n",
      "Linking lex_id 34 with stix_object_id x-stixd-clex--a9a1d469-5a00-4c28-a4e3-8b3701c6868b\n",
      "Successfully linked lex_id 34 with stix_uuid x-stixd-clex--a9a1d469-5a00-4c28-a4e3-8b3701c6868b\n",
      "Generated hash: ac7502fa73fb93115da3fdc332c095b93db172fb3c9da5342cb1d4efea1dbfa4 for iv_finsg - waits\n",
      "Inserted entry with lex_id: 35 into lexicon\n",
      "Linking lex_id 35 with stix_object_id x-stixd-clex--a9a1d469-5a00-4c28-a4e3-8b3701c6868b\n",
      "Successfully linked lex_id 35 with stix_uuid x-stixd-clex--a9a1d469-5a00-4c28-a4e3-8b3701c6868b\n",
      "Generated hash: efb99022f10de88cfa917fd5f2d22db31a264c47c446e39b745ecaf2104386d5 for iv_infpl - wait\n",
      "Inserted entry with lex_id: 36 into lexicon\n",
      "Linking lex_id 36 with stix_object_id x-stixd-clex--a9a1d469-5a00-4c28-a4e3-8b3701c6868b\n",
      "Successfully linked lex_id 36 with stix_uuid x-stixd-clex--a9a1d469-5a00-4c28-a4e3-8b3701c6868b\n",
      "Generated hash: 43b09b0fdca3918fdeffbdd00f9b9b1e36680a19e18a27b9ef837250aea760ff for iv_finsg - goes-away\n",
      "Inserted entry with lex_id: 37 into lexicon\n",
      "Linking lex_id 37 with stix_object_id x-stixd-clex--a9a1d469-5a00-4c28-a4e3-8b3701c6868b\n",
      "Successfully linked lex_id 37 with stix_uuid x-stixd-clex--a9a1d469-5a00-4c28-a4e3-8b3701c6868b\n",
      "Generated hash: ecc9360327520149b50d67f39339a5340963d1f856c8e2379694e5758b18b90f for iv_infpl - go-away\n",
      "Inserted entry with lex_id: 38 into lexicon\n",
      "Linking lex_id 38 with stix_object_id x-stixd-clex--a9a1d469-5a00-4c28-a4e3-8b3701c6868b\n",
      "Successfully linked lex_id 38 with stix_uuid x-stixd-clex--a9a1d469-5a00-4c28-a4e3-8b3701c6868b\n",
      "Generated hash: f02be7a15dcd7cca79dc9b1c141991d479120352658c50030c7268da9372e6ff for iv_finsg - walks\n",
      "Inserted entry with lex_id: 39 into lexicon\n",
      "Linking lex_id 39 with stix_object_id x-stixd-clex--a9a1d469-5a00-4c28-a4e3-8b3701c6868b\n",
      "Successfully linked lex_id 39 with stix_uuid x-stixd-clex--a9a1d469-5a00-4c28-a4e3-8b3701c6868b\n",
      "Generated hash: 31e757a6e9e9b7a3e8b7760ed46a8d8fac08fa4989bd1e2564178a466592fb0b for iv_infpl - walk\n",
      "Inserted entry with lex_id: 40 into lexicon\n",
      "Linking lex_id 40 with stix_object_id x-stixd-clex--a9a1d469-5a00-4c28-a4e3-8b3701c6868b\n",
      "Successfully linked lex_id 40 with stix_uuid x-stixd-clex--a9a1d469-5a00-4c28-a4e3-8b3701c6868b\n",
      "Generated hash: ee65aeba7add7b5c2bec1c8453b46d0686c74980f5b66e971d8e0fdf4be2f339 for tv_finsg - knows\n",
      "Inserted entry with lex_id: 41 into lexicon\n",
      "Linking lex_id 41 with stix_object_id x-stixd-clex--a9a1d469-5a00-4c28-a4e3-8b3701c6868b\n",
      "Successfully linked lex_id 41 with stix_uuid x-stixd-clex--a9a1d469-5a00-4c28-a4e3-8b3701c6868b\n",
      "Generated hash: 422c3c3b73090cafb154a7af0c97a4a8b6526d0c081ecfd3c4852555ca497274 for tv_infpl - know\n",
      "Inserted entry with lex_id: 42 into lexicon\n",
      "Linking lex_id 42 with stix_object_id x-stixd-clex--a9a1d469-5a00-4c28-a4e3-8b3701c6868b\n",
      "Successfully linked lex_id 42 with stix_uuid x-stixd-clex--a9a1d469-5a00-4c28-a4e3-8b3701c6868b\n",
      "Generated hash: 77ca0e15adaec7eb9f1e2b265d8c4aaea36eb3233610413ec08cbd2cc9e75602 for tv_pp - known\n",
      "Inserted entry with lex_id: 43 into lexicon\n",
      "Linking lex_id 43 with stix_object_id x-stixd-clex--a9a1d469-5a00-4c28-a4e3-8b3701c6868b\n",
      "Successfully linked lex_id 43 with stix_uuid x-stixd-clex--a9a1d469-5a00-4c28-a4e3-8b3701c6868b\n",
      "Generated hash: f7e5589db0c1cd8731249783f142502b70a9c4c81f2438a1a68d9a14466d7638 for tv_finsg - likes\n",
      "Inserted entry with lex_id: 44 into lexicon\n",
      "Linking lex_id 44 with stix_object_id x-stixd-clex--a9a1d469-5a00-4c28-a4e3-8b3701c6868b\n",
      "Successfully linked lex_id 44 with stix_uuid x-stixd-clex--a9a1d469-5a00-4c28-a4e3-8b3701c6868b\n",
      "Generated hash: 5662a9d8c3e47a4030ee3ce04f64b96d20f97050b43889b9c99a3d75bdcf2e87 for tv_infpl - like\n",
      "Inserted entry with lex_id: 45 into lexicon\n",
      "Linking lex_id 45 with stix_object_id x-stixd-clex--a9a1d469-5a00-4c28-a4e3-8b3701c6868b\n",
      "Successfully linked lex_id 45 with stix_uuid x-stixd-clex--a9a1d469-5a00-4c28-a4e3-8b3701c6868b\n",
      "Generated hash: f4758877070e53c2c6289823abd379e18f73118cf9427ba32004de974786bd71 for tv_pp - liked\n",
      "Inserted entry with lex_id: 46 into lexicon\n",
      "Linking lex_id 46 with stix_object_id x-stixd-clex--a9a1d469-5a00-4c28-a4e3-8b3701c6868b\n",
      "Successfully linked lex_id 46 with stix_uuid x-stixd-clex--a9a1d469-5a00-4c28-a4e3-8b3701c6868b\n",
      "Generated hash: ee6ebaf5ffc016337f2f65c9331f36a1fbe639b1f78ae0447d006d28d8056028 for tv_finsg - relates-to\n",
      "Inserted entry with lex_id: 47 into lexicon\n",
      "Linking lex_id 47 with stix_object_id x-stixd-clex--a9a1d469-5a00-4c28-a4e3-8b3701c6868b\n",
      "Successfully linked lex_id 47 with stix_uuid x-stixd-clex--a9a1d469-5a00-4c28-a4e3-8b3701c6868b\n",
      "Generated hash: 192eda123579168e6bd639ed1df16c5698e593c45a353c7dac8e4ba71a910a72 for tv_infpl - relate-to\n",
      "Inserted entry with lex_id: 48 into lexicon\n",
      "Linking lex_id 48 with stix_object_id x-stixd-clex--a9a1d469-5a00-4c28-a4e3-8b3701c6868b\n",
      "Successfully linked lex_id 48 with stix_uuid x-stixd-clex--a9a1d469-5a00-4c28-a4e3-8b3701c6868b\n",
      "Generated hash: 90837f23fb3398bbf7acd13a4734d872ad7561a56638f7d02aef58af5f950656 for tv_pp - related-to\n",
      "Inserted entry with lex_id: 49 into lexicon\n",
      "Linking lex_id 49 with stix_object_id x-stixd-clex--a9a1d469-5a00-4c28-a4e3-8b3701c6868b\n",
      "Successfully linked lex_id 49 with stix_uuid x-stixd-clex--a9a1d469-5a00-4c28-a4e3-8b3701c6868b\n",
      "Generated hash: 42f5f444d7d957ad84c5a633757577db59591b988579f53bd1f350baddaf9f03 for dv_finsg - shows\n",
      "Inserted entry with lex_id: 50 into lexicon\n",
      "Linking lex_id 50 with stix_object_id x-stixd-clex--a9a1d469-5a00-4c28-a4e3-8b3701c6868b\n",
      "Successfully linked lex_id 50 with stix_uuid x-stixd-clex--a9a1d469-5a00-4c28-a4e3-8b3701c6868b\n",
      "Generated hash: d14f9f05e5a0b45180e21ff9b1e2fbe467d23276236aa52fb37eb73fd340da91 for dv_infpl - show\n",
      "Inserted entry with lex_id: 51 into lexicon\n",
      "Linking lex_id 51 with stix_object_id x-stixd-clex--a9a1d469-5a00-4c28-a4e3-8b3701c6868b\n",
      "Successfully linked lex_id 51 with stix_uuid x-stixd-clex--a9a1d469-5a00-4c28-a4e3-8b3701c6868b\n",
      "Generated hash: 7cf576b300bbb026e4a7b5b4a8d792dc0f6e834354a4efe471977f2d71517a9a for dv_pp - shown\n",
      "Inserted entry with lex_id: 52 into lexicon\n",
      "Linking lex_id 52 with stix_object_id x-stixd-clex--a9a1d469-5a00-4c28-a4e3-8b3701c6868b\n",
      "Successfully linked lex_id 52 with stix_uuid x-stixd-clex--a9a1d469-5a00-4c28-a4e3-8b3701c6868b\n",
      "Generated hash: 42f5f444d7d957ad84c5a633757577db59591b988579f53bd1f350baddaf9f03 for dv_finsg - shows\n",
      "Entry already exists for hash: 42f5f444d7d957ad84c5a633757577db59591b988579f53bd1f350baddaf9f03\n",
      "Generated hash: d14f9f05e5a0b45180e21ff9b1e2fbe467d23276236aa52fb37eb73fd340da91 for dv_infpl - show\n",
      "Entry already exists for hash: d14f9f05e5a0b45180e21ff9b1e2fbe467d23276236aa52fb37eb73fd340da91\n",
      "Generated hash: 7cf576b300bbb026e4a7b5b4a8d792dc0f6e834354a4efe471977f2d71517a9a for dv_pp - shown\n",
      "Entry already exists for hash: 7cf576b300bbb026e4a7b5b4a8d792dc0f6e834354a4efe471977f2d71517a9a\n",
      "Generated hash: 4b9730c9ceecf1d5f810a4826903bb059c3e92371075ace397c16ed7d738418d for dv_finsg - forgives\n",
      "Inserted entry with lex_id: 53 into lexicon\n",
      "Linking lex_id 53 with stix_object_id x-stixd-clex--a9a1d469-5a00-4c28-a4e3-8b3701c6868b\n",
      "Successfully linked lex_id 53 with stix_uuid x-stixd-clex--a9a1d469-5a00-4c28-a4e3-8b3701c6868b\n",
      "Generated hash: 9b948431ccbbc7fe72acc6521239aa45db87345868a085fef14be2952cf73343 for dv_infpl - forgive\n",
      "Inserted entry with lex_id: 54 into lexicon\n",
      "Linking lex_id 54 with stix_object_id x-stixd-clex--a9a1d469-5a00-4c28-a4e3-8b3701c6868b\n",
      "Successfully linked lex_id 54 with stix_uuid x-stixd-clex--a9a1d469-5a00-4c28-a4e3-8b3701c6868b\n",
      "Generated hash: 87c13947298aa7164ca11f17ffb7cf6e0725519849e9cd3b369c99e69db9f417 for dv_pp - forgiven\n",
      "Inserted entry with lex_id: 55 into lexicon\n",
      "Linking lex_id 55 with stix_object_id x-stixd-clex--a9a1d469-5a00-4c28-a4e3-8b3701c6868b\n",
      "Successfully linked lex_id 55 with stix_uuid x-stixd-clex--a9a1d469-5a00-4c28-a4e3-8b3701c6868b\n",
      "Generated hash: 1b1a64cc34090572aa43370164020fb77fe5e26ea27e6841fb5da311c70db49e for dv_finsg - succeeds\n",
      "Inserted entry with lex_id: 56 into lexicon\n",
      "Linking lex_id 56 with stix_object_id x-stixd-clex--a9a1d469-5a00-4c28-a4e3-8b3701c6868b\n",
      "Successfully linked lex_id 56 with stix_uuid x-stixd-clex--a9a1d469-5a00-4c28-a4e3-8b3701c6868b\n",
      "Generated hash: 94cd50411086a27d99e36cea494fca14e31bfcdde6608e91b7d21b8abbfcba24 for dv_infpl - succeed\n",
      "Inserted entry with lex_id: 57 into lexicon\n",
      "Linking lex_id 57 with stix_object_id x-stixd-clex--a9a1d469-5a00-4c28-a4e3-8b3701c6868b\n",
      "Successfully linked lex_id 57 with stix_uuid x-stixd-clex--a9a1d469-5a00-4c28-a4e3-8b3701c6868b\n",
      "Generated hash: 8ee745975fad537905042b710e2f602f6c6bbe6c72f123b3596ce0b962f2b23f for dv_pp - succeeded\n",
      "Inserted entry with lex_id: 58 into lexicon\n",
      "Linking lex_id 58 with stix_object_id x-stixd-clex--a9a1d469-5a00-4c28-a4e3-8b3701c6868b\n",
      "Successfully linked lex_id 58 with stix_uuid x-stixd-clex--a9a1d469-5a00-4c28-a4e3-8b3701c6868b\n",
      "Generated hash: 588d4fcff28ceb79f1ec34ddd75c384a00af846f472434f114b740185f9312f5 for prep - WordForm\n",
      "Inserted entry with lex_id: 59 into lexicon\n",
      "Linking lex_id 59 with stix_object_id x-stixd-clex--a9a1d469-5a00-4c28-a4e3-8b3701c6868b\n",
      "Successfully linked lex_id 59 with stix_uuid x-stixd-clex--a9a1d469-5a00-4c28-a4e3-8b3701c6868b\n",
      "Import successful\n"
     ]
    }
   ],
   "source": [
    "%run ../app/clex_importer.py \"https://github.com/ciioprof0/stixd/raw/main/lexicon/test_clex.pl\"\n"
   ]
  },
  {
   "cell_type": "markdown",
   "metadata": {},
   "source": [
    "## Project Design"
   ]
  },
  {
   "cell_type": "code",
   "execution_count": null,
   "metadata": {},
   "outputs": [],
   "source": []
  },
  {
   "cell_type": "markdown",
   "metadata": {},
   "source": [
    "### Project Overview\n",
    "The Clex Importer tool imports data from the Attempto Controlled English (ACE) lexicon file, stored as Prolog facts, into the `lexicon` table of the STIX-D MySQL database. This tool is accessible via a web form served by a Flask API, where users input a URL pointing to an ACE lexicon file. The system then parses the each Prolog fact and maps it to the appropriate attributes in the `lexicon` table. Additionally, the tool can be executed from the command line or integrated into other applications."
   ]
  },
  {
   "cell_type": "markdown",
   "metadata": {},
   "source": [
    "### OOP Principles in the Project\n",
    "This project is designed using object-oriented programming (OOP) principles to create a modular, extensible, and maintainable system. The key OOP principles in the project are as follows:\n",
    "\n",
    "- **Abstraction**: The project uses abstract classes and methods to define interfaces and enforce a common structure. For example, the Repository class defines abstract methods for interacting with the database, which are implemented by MySQLRepository.\n",
    "- **Encapsulation**: Each class is responsible for a specific aspect of the project, encapsulating related data and behavior. For example, ClexImporter encapsulates the logic for importing Clex entries, while MySQLRepository encapsulates database interactions.\n",
    "- **Inheritance**: The project uses inheritance to create a hierarchy of classes with shared behavior. For example, MySQLRepository inherits from Repository to reuse common database interaction methods.\n",
    "- **Polymorphism**: The project uses polymorphism to allow different classes to be used interchangeably. For example, the Repository interface allows different types of repositories to be used with the ClexImporter."
   ]
  },
  {
   "cell_type": "markdown",
   "metadata": {},
   "source": [
    "### Key Modules and Their OOP Design\n",
    "The project consists of the following key modules, each designed using OOP principles:"
   ]
  },
  {
   "cell_type": "markdown",
   "metadata": {},
   "source": [
    "- **`ClexImporter` Class in `clex_importer.py`**: \n",
    "    - **Responsibility**: Manages the importation of Clex entries into the database.\n",
    "    - **Attributes**:\n",
    "        - `db_repo`: Represents the database repository where Clex entries will be stored.\n",
    "        - `uri`: The location of the Clex file to be imported.\n",
    "    - **Methods**:\n",
    "        - `import_clex_entries()`: Imports Clex entries from the specified file into the database.\n",
    "        - `parse_clex_entry()`: Parses a single Clex entry from the file.\n",
    "        - `map_clex_entry_to_lexicon()`: Maps the parsed Clex entry to the `lexicon` table schema."
   ]
  },
  {
   "cell_type": "markdown",
   "metadata": {},
   "source": [
    "- **`MySQLRepository` Class in `mysql_repository.py`**: \n",
    "    - **Responsibility**: Abstracts the database interactions for MySQL databases.\n",
    "    - **Attributes**:\n",
    "        - `connection`: Represents the connection to the MySQL database.\n",
    "        - `table_name`: The name of the table in the database.\n",
    "    - **Methods**:\n",
    "        - `create_table()`: Creates the table in the database."
   ]
  },
  {
   "cell_type": "markdown",
   "metadata": {},
   "source": [
    "- **MySQLRepository**: Contains the MySQLRepository class, which implements the Repository interface for interacting with a MySQL database. The class uses the mysql-connector-python library to connect to the database and execute queries."
   ]
  },
  {
   "cell_type": "markdown",
   "metadata": {},
   "source": [
    "- **DocumentManager**: Contains the DocumentManager class, which provides methods for reading and writing files. The class is used by the ClexImporter to read the lexicon file."
   ]
  },
  {
   "cell_type": "markdown",
   "metadata": {},
   "source": [
    "- **NLPProcessor**: Contains the NLPProcessor class, which provides methods for processing natural language text. The class is used by the ClexImporter to extract information from the lexicon file."
   ]
  },
  {
   "cell_type": "markdown",
   "metadata": {},
   "source": [
    "## Code Interaction with Database"
   ]
  },
  {
   "cell_type": "code",
   "execution_count": 4,
   "metadata": {},
   "outputs": [],
   "source": [
    "# Run Flask in a separate process\n",
    "def run_flask():\n",
    "    app.run(port=5000, debug=True, use_reloader=False)\n",
    "\n",
    "flask_process = multiprocessing.Process(target=run_flask)\n",
    "flask_process.start()"
   ]
  },
  {
   "cell_type": "code",
   "execution_count": 5,
   "metadata": {},
   "outputs": [
    {
     "data": {
      "text/html": [
       "\n",
       "        <iframe\n",
       "            width=\"640\"\n",
       "            height=\"480\"\n",
       "            src=\"http://localhost:5000/ling508/web/stixd.html\"\n",
       "            frameborder=\"0\"\n",
       "            allowfullscreen\n",
       "            \n",
       "        ></iframe>\n",
       "        "
      ],
      "text/plain": [
       "<IPython.lib.display.IFrame at 0x1f16709ef00>"
      ]
     },
     "metadata": {},
     "output_type": "display_data"
    }
   ],
   "source": [
    "# Display the HTML form served by Flask\n",
    "display(IFrame(\"http://localhost:5000/ling508/web/stixd.html\", width=640, height=480))"
   ]
  },
  {
   "cell_type": "markdown",
   "metadata": {},
   "source": [
    "## Test Cases"
   ]
  },
  {
   "cell_type": "markdown",
   "metadata": {},
   "source": [
    "### All Test Cases"
   ]
  },
  {
   "cell_type": "markdown",
   "metadata": {},
   "source": [
    "Please note that one or both of the end-to-end (e2e) test cases may fail sometimes and often pass if you run the test(s) again. If the e2e test(s) fails twice in a row, try restarting the notebook kernel and rerun the test. "
   ]
  },
  {
   "cell_type": "code",
   "execution_count": 6,
   "metadata": {},
   "outputs": [],
   "source": [
    "# Run all tests in the test directory (~30-60 seconds)\n",
    "# pytest.main([TEST_DIR, VERBOSITY, TRACEBACK])\n"
   ]
  },
  {
   "cell_type": "markdown",
   "metadata": {},
   "source": [
    "### Test Case 1: doc_scrapper"
   ]
  },
  {
   "cell_type": "code",
   "execution_count": 7,
   "metadata": {},
   "outputs": [],
   "source": [
    "# Run a specific test file in the test directory\n",
    "# test_file = \"test_10_doc_scrapper.py\"\n",
    "# pytest.main([os.path.join(TEST_DIR, test_file), \"-v\", \"--tb=auto\"])\n"
   ]
  },
  {
   "cell_type": "markdown",
   "metadata": {},
   "source": [
    "### Test Case 2: gen_clex_uuid"
   ]
  },
  {
   "cell_type": "code",
   "execution_count": 8,
   "metadata": {},
   "outputs": [],
   "source": [
    "# Run a specific test file in the test directory\n",
    "# test_file = \"test_20_gen_clex_uuid.py\"\n",
    "# pytest.main([os.path.join(TEST_DIR, test_file), \"-v\", \"--tb=auto\"])\n"
   ]
  },
  {
   "cell_type": "markdown",
   "metadata": {},
   "source": [
    "### Test Case 3: mysql_repo"
   ]
  },
  {
   "cell_type": "code",
   "execution_count": 9,
   "metadata": {},
   "outputs": [],
   "source": [
    "# Run a specific test file in the test directory\n",
    "# ttest_file = \"test_30_mysql_repo.py\"\n",
    "# pyest.main([os.path.join(TEST_DIR, test_file), \"-v\", \"--tb=auto\"])\n"
   ]
  },
  {
   "cell_type": "markdown",
   "metadata": {},
   "source": [
    "### Test Case 4: nlp_manager"
   ]
  },
  {
   "cell_type": "code",
   "execution_count": 10,
   "metadata": {},
   "outputs": [],
   "source": [
    "# Run a specific test file in the test directory\n",
    "# test_file = \"test_40_nlp_manager.py\"\n",
    "# pytest.main([os.path.join(TEST_DIR, test_file), \"-v\", \"--tb=auto\"])\n"
   ]
  },
  {
   "cell_type": "markdown",
   "metadata": {},
   "source": [
    "### Test Case 5: doc_manager"
   ]
  },
  {
   "cell_type": "code",
   "execution_count": 11,
   "metadata": {},
   "outputs": [],
   "source": [
    "# Run a specific test file in the test directory\n",
    "# test_file = \"test_50_doc_manager.py\"\n",
    "# pytest.main([os.path.join(TEST_DIR, test_file), \"-v\", \"--tb=auto\"])\n"
   ]
  },
  {
   "cell_type": "markdown",
   "metadata": {},
   "source": [
    "### Test Case 6: sent_manager"
   ]
  },
  {
   "cell_type": "code",
   "execution_count": 12,
   "metadata": {},
   "outputs": [],
   "source": [
    "# Run a specific test file in the test directory\n",
    "# test_file = \"test_53_sent_manager.py\"\n",
    "# pytest.main([os.path.join(TEST_DIR, test_file), \"-v\", \"--tb=auto\"])\n"
   ]
  },
  {
   "cell_type": "markdown",
   "metadata": {},
   "source": [
    "### Test Case 7: lexicon_manager"
   ]
  },
  {
   "cell_type": "code",
   "execution_count": 13,
   "metadata": {},
   "outputs": [],
   "source": [
    "# Run a specific test file in the test directory\n",
    "# test_file = \"test_57_lexicon_manager.py\"\n",
    "# pytest.main([os.path.join(TEST_DIR, test_file), \"-v\", \"--tb=auto\"])\n"
   ]
  },
  {
   "cell_type": "markdown",
   "metadata": {},
   "source": [
    "### Test Case 8: clex_importer_local"
   ]
  },
  {
   "cell_type": "code",
   "execution_count": 14,
   "metadata": {},
   "outputs": [],
   "source": [
    "# Run a specific test file in the test directory (~ 10 seconds)\n",
    "# test_file = \"test_70_clex_importer_local.py\"\n",
    "# pytest.main([os.path.join(TEST_DIR, test_file), \"-v\", \"--tb=auto\"])\n"
   ]
  },
  {
   "cell_type": "markdown",
   "metadata": {},
   "source": [
    "### Test Case 9: clex_importer_ci"
   ]
  },
  {
   "cell_type": "code",
   "execution_count": 15,
   "metadata": {},
   "outputs": [],
   "source": [
    "# Run a specific test file in the test directory\n",
    "# test_file = \"test_75_clex_importer_ci.py\"\n",
    "# pytest.main([os.path.join(TEST_DIR, test_file), \"-v\", \"--tb=auto\"])\n"
   ]
  },
  {
   "cell_type": "markdown",
   "metadata": {},
   "source": [
    "### Test Case 10: api"
   ]
  },
  {
   "cell_type": "code",
   "execution_count": 16,
   "metadata": {},
   "outputs": [],
   "source": [
    "# Run a specific test file in the test directory\n",
    "# test_file = \"test_80_api.py\"\n",
    "# pytest.main([os.path.join(TEST_DIR, test_file), \"-v\", \"--tb=auto\"])\n"
   ]
  },
  {
   "cell_type": "markdown",
   "metadata": {},
   "source": [
    "### Test Case 11: e2e_local"
   ]
  },
  {
   "cell_type": "markdown",
   "metadata": {},
   "source": [
    "Please note that one or both of the end-to-end (e2e) test cases may fail sometimes and often pass if you run the test(s) again. If the e2e test(s) fails twice in a row, try restarting the notebook kernel and rerun the test(s). "
   ]
  },
  {
   "cell_type": "code",
   "execution_count": 17,
   "metadata": {},
   "outputs": [],
   "source": [
    "# Run a specific test file in the test directory (~15 seconds)\n",
    "# test_file = \"test_90_e2e_local.py\"\n",
    "# pytest.main([os.path.join(TEST_DIR, test_file), \"-v\", \"--tb=auto\"])\n"
   ]
  },
  {
   "cell_type": "markdown",
   "metadata": {},
   "source": [
    "### Test Case 12: e2e_ci"
   ]
  },
  {
   "cell_type": "markdown",
   "metadata": {},
   "source": [
    "Please note that one or both of the end-to-end (e2e) test cases may fail sometimes and often pass if you run the test(s) again. If the e2e test(s) fails twice in a row, try restarting the notebook kernel and rerun the test(s). "
   ]
  },
  {
   "cell_type": "code",
   "execution_count": 18,
   "metadata": {},
   "outputs": [],
   "source": [
    "# Run a specific test file in the test directory (~15 seconds)\n",
    "# ttest_file = \"test_95_e2e_ci.py\"\n",
    "# pyest.main([os.path.join(TEST_DIR, test_file), \"-v\", \"--tb=auto\"])\n"
   ]
  },
  {
   "cell_type": "code",
   "execution_count": null,
   "metadata": {},
   "outputs": [],
   "source": []
  }
 ],
 "metadata": {
  "kernelspec": {
   "display_name": ".venv",
   "language": "python",
   "name": "python3"
  },
  "language_info": {
   "codemirror_mode": {
    "name": "ipython",
    "version": 3
   },
   "file_extension": ".py",
   "mimetype": "text/x-python",
   "name": "python",
   "nbconvert_exporter": "python",
   "pygments_lexer": "ipython3",
   "version": "3.12.4"
  }
 },
 "nbformat": 4,
 "nbformat_minor": 2
}
