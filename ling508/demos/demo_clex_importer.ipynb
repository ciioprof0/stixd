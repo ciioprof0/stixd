{
 "cells": [
  {
   "cell_type": "markdown",
   "metadata": {},
   "source": [
    "# Demonstration of STIX-D Clex Importer Tool"
   ]
  },
  {
   "cell_type": "markdown",
   "metadata": {},
   "source": [
    "## Use Case"
   ]
  },
  {
   "cell_type": "markdown",
   "metadata": {},
   "source": [
    "## Code Execution"
   ]
  },
  {
   "cell_type": "markdown",
   "metadata": {},
   "source": [
    "## Project Design"
   ]
  },
  {
   "cell_type": "markdown",
   "metadata": {},
   "source": [
    "## Code Interaction with Database"
   ]
  },
  {
   "cell_type": "markdown",
   "metadata": {},
   "source": [
    "## Test Cases"
   ]
  },
  {
   "cell_type": "code",
   "execution_count": 10,
   "metadata": {},
   "outputs": [
    {
     "name": "stdout",
     "output_type": "stream",
     "text": [
      "\u001b[1m============================= test session starts =============================\u001b[0m\n",
      "platform win32 -- Python 3.12.4, pytest-8.3.2, pluggy-1.5.0 -- d:\\OneDrive\\Code\\hltms\\stixd\\.venv\\Scripts\\python.exe\n",
      "cachedir: .pytest_cache\n",
      "rootdir: d:\\OneDrive\\Code\\hltms\\stixd\n",
      "configfile: pytest.ini\n",
      "plugins: anyio-4.4.0, mock-3.14.0\n",
      "\u001b[1mcollecting ... \u001b[0mcollected 30 items\n",
      "\n",
      "..\\tests\\test_10_doc_scrapper.py::test_fetch_html \u001b[32mPASSED\u001b[0m\u001b[32m                 [  3%]\u001b[0m\n",
      "..\\tests\\test_10_doc_scrapper.py::test_allows_scraping \u001b[32mPASSED\u001b[0m\u001b[32m            [  6%]\u001b[0m\n",
      "..\\tests\\test_10_doc_scrapper.py::test_convert_html_to_markdown \u001b[32mPASSED\u001b[0m\u001b[32m   [ 10%]\u001b[0m\n",
      "..\\tests\\test_10_doc_scrapper.py::test_save_markdown \u001b[32mPASSED\u001b[0m\u001b[32m              [ 13%]\u001b[0m\n",
      "..\\tests\\test_10_doc_scrapper.py::test_process_url \u001b[32mPASSED\u001b[0m\u001b[32m                [ 16%]\u001b[0m\n",
      "..\\tests\\test_20_gen_clex_uuid.py::test_generate_uuid[4-x-stixd-clex-https:\\raw.githubusercontent.com\\ciioprof0\\stixd\\03c934281777fecd3edb1d8622310bbf0839c17d\\tests\\test_clex.pl] \u001b[32mPASSED\u001b[0m\u001b[32m [ 20%]\u001b[0m\n",
      "..\\tests\\test_20_gen_clex_uuid.py::test_generate_uuid[4-x-stixd-clex-https:\\raw.githubusercontent.com\\Attempto\\Clex\\20960a5ce07776cb211a8cfb25dc8c81fcdf25e2\\clex_lexicon.pl] \u001b[32mPASSED\u001b[0m\u001b[32m [ 23%]\u001b[0m\n",
      "..\\tests\\test_30_mysql_repo.py::test_save_and_load_entry \u001b[32mPASSED\u001b[0m\u001b[32m          [ 26%]\u001b[0m\n",
      "..\\tests\\test_30_mysql_repo.py::test_find_entry_by_id \u001b[32mPASSED\u001b[0m\u001b[32m             [ 30%]\u001b[0m\n",
      "..\\tests\\test_40_nlp_manager.py::test_process_text \u001b[32mPASSED\u001b[0m\u001b[32m                [ 33%]\u001b[0m\n",
      "..\\tests\\test_40_nlp_manager.py::test_process_sentence \u001b[32mPASSED\u001b[0m\u001b[32m            [ 36%]\u001b[0m\n",
      "..\\tests\\test_50_doc_manager.py::test_create_document \u001b[32mPASSED\u001b[0m\u001b[32m             [ 40%]\u001b[0m\n",
      "..\\tests\\test_50_doc_manager.py::test_link_document \u001b[32mPASSED\u001b[0m\u001b[32m               [ 43%]\u001b[0m\n",
      "..\\tests\\test_50_doc_manager.py::test_process_document_text \u001b[32mPASSED\u001b[0m\u001b[32m       [ 46%]\u001b[0m\n",
      "..\\tests\\test_53_sent_manager.py::test_create_sentence \u001b[32mPASSED\u001b[0m\u001b[32m            [ 50%]\u001b[0m\n",
      "..\\tests\\test_53_sent_manager.py::test_link_sentence \u001b[32mPASSED\u001b[0m\u001b[32m              [ 53%]\u001b[0m\n",
      "..\\tests\\test_53_sent_manager.py::test_process_sentence_text \u001b[32mPASSED\u001b[0m\u001b[32m      [ 56%]\u001b[0m\n",
      "..\\tests\\test_57_lexicon_manager.py::test_create_lexicon_entry \u001b[32mPASSED\u001b[0m\u001b[32m    [ 60%]\u001b[0m\n",
      "..\\tests\\test_57_lexicon_manager.py::test_link_lexicon_entry \u001b[32mPASSED\u001b[0m\u001b[32m      [ 63%]\u001b[0m\n",
      "..\\tests\\test_57_lexicon_manager.py::test_process_word \u001b[32mPASSED\u001b[0m\u001b[32m            [ 66%]\u001b[0m\n",
      "..\\tests\\test_70_clex_importer_local.py::test_import_clex_entries[1-adv-fast-fast-None-67e9b1c5cbd53045919deda792be49b18b41a09b3bd328f9cc406bb27d951f62] \u001b[32mPASSED\u001b[0m\u001b[32m [ 70%]\u001b[0m\n",
      "..\\tests\\test_70_clex_importer_local.py::test_import_clex_entries[19-noun_pl-months-month-neutr-6e7ab17fe3f242d10f360197f40646b443db6079d730e9d746c96824a2606336] \u001b[32mPASSED\u001b[0m\u001b[32m [ 73%]\u001b[0m\n",
      "..\\tests\\test_70_clex_importer_local.py::test_import_clex_entries[39-iv_finsg-walks-walk-None-f02be7a15dcd7cca79dc9b1c141991d479120352658c50030c7268da9372e6ff] \u001b[32mPASSED\u001b[0m\u001b[32m [ 76%]\u001b[0m\n",
      "..\\tests\\test_70_clex_importer_local.py::test_import_clex_entries[58-dv_pp-succeeded-succeed-as-8ee745975fad537905042b710e2f602f6c6bbe6c72f123b3596ce0b962f2b23f] \u001b[32mPASSED\u001b[0m\u001b[32m [ 80%]\u001b[0m\n",
      "..\\tests\\test_75_clex_importer.py::test_import_clex_entries \u001b[32mPASSED\u001b[0m\u001b[32m       [ 83%]\u001b[0m\n",
      "..\\tests\\test_80_api.py::test_import_clex_success \u001b[32mPASSED\u001b[0m\u001b[32m                 [ 86%]\u001b[0m\n",
      "..\\tests\\test_80_api.py::test_import_clex_bad_request \u001b[32mPASSED\u001b[0m\u001b[32m             [ 90%]\u001b[0m\n",
      "..\\tests\\test_80_api.py::test_import_clex_request_exception \u001b[32mPASSED\u001b[0m\u001b[32m       [ 93%]\u001b[0m\n",
      "..\\tests\\test_80_api.py::test_import_clex_mysql_error \u001b[32mPASSED\u001b[0m\u001b[32m             [ 96%]\u001b[0m\n",
      "..\\tests\\test_80_api.py::test_import_clex_system_error \u001b[32mPASSED\u001b[0m\u001b[32m            [100%]\u001b[0m\n",
      "\n",
      "\u001b[32m============================= \u001b[32m\u001b[1m30 passed\u001b[0m\u001b[32m in 6.27s\u001b[0m\u001b[32m ==============================\u001b[0m\n"
     ]
    },
    {
     "data": {
      "text/plain": [
       "<ExitCode.OK: 0>"
      ]
     },
     "execution_count": 10,
     "metadata": {},
     "output_type": "execute_result"
    }
   ],
   "source": [
    "# Run all tests\n",
    "import pytest\n",
    "import os\n",
    "\n",
    "# Define the path to your tests directory\n",
    "test_dir = os.path.join(os.getcwd(), '../tests')\n",
    "\n",
    "# Run all tests in the /tests directory\n",
    "# pytest.main([test_dir, '-q'])\n",
    "pytest.main([test_dir, '-v', '--tb=no'])"
   ]
  },
  {
   "cell_type": "markdown",
   "metadata": {},
   "source": []
  }
 ],
 "metadata": {
  "kernelspec": {
   "display_name": ".venv",
   "language": "python",
   "name": "python3"
  },
  "language_info": {
   "codemirror_mode": {
    "name": "ipython",
    "version": 3
   },
   "file_extension": ".py",
   "mimetype": "text/x-python",
   "name": "python",
   "nbconvert_exporter": "python",
   "pygments_lexer": "ipython3",
   "version": "3.12.4"
  }
 },
 "nbformat": 4,
 "nbformat_minor": 2
}
