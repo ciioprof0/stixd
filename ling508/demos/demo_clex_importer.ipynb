{
 "cells": [
  {
   "cell_type": "markdown",
   "metadata": {},
   "source": [
    "#### Instructions for Running this Notebook\n",
    "\n",
    "- **Initial Setup:** If you are running this notebook for the first time, install the necessary Python packages by executing the following command in your terminal:\n",
    "```bash\n",
    "        pip install -r ../demos/requirements.txt\n",
    "```\n",
    "\n",
    "- **Troubleshooting:** If you encounter any issues or failed tests while running the notebook, restart the kernel and try running the cells again. This can often resolve state-related problems."
   ]
  },
  {
   "cell_type": "code",
   "execution_count": 1,
   "metadata": {},
   "outputs": [],
   "source": [
    "# Import Standard Libraries\n",
    "import os\n",
    "import sys\n",
    "import multiprocessing\n",
    "\n",
    "# Import Third Party Libraries\n",
    "from flask import Flask, request, jsonify\n",
    "from IPython.display import IFrame, display\n",
    "import pytest\n",
    "\n",
    "# Get the current working directory (CWD)\n",
    "cwd = os.getcwd()\n",
    "# Move up two levels to reach the stixd directory\n",
    "stixd_path = os.path.abspath(os.path.join(cwd, '..', '..'))\n",
    "# Append the stixd directory to the Python path\n",
    "sys.path.append(stixd_path)\n",
    "\n",
    "# Import Local Libraries\n",
    "from ling508.api import app"
   ]
  },
  {
   "cell_type": "code",
   "execution_count": 2,
   "metadata": {},
   "outputs": [],
   "source": [
    "# Define Global Variables\n",
    "\n",
    "# Define the path to /tests directory\n",
    "TEST_DIR = os.path.join(os.getcwd(), '../tests')\n",
    "\n",
    "# Define pytest verbosity level\n",
    "VERBOSITY = '-q' # Quiet\n",
    "# VERBOSITY = '-v' # Verbose\n",
    "# VERBOSITY = '-vv' # More verbose\n",
    "# VERBOSITY = '-vvv' # Even more verbose\n",
    "\n",
    "# Define pytest traceback level\n",
    "TRACEBACK = '--tb=auto' # Default\n",
    "# TRACEBACK = '--tb=short' # Short\n",
    "# TRACEBACK = '--tb=long' # Long\n",
    "# TRACEBACK = '--tb=line' # One line\n",
    "# TRACEBACK = '--tb=native' # Python standard\n",
    "# TRACEBACK = '--tb=no' # No traceback"
   ]
  },
  {
   "cell_type": "markdown",
   "metadata": {},
   "source": [
    "# Demonstration of STIX-D Clex Importer Tool"
   ]
  },
  {
   "cell_type": "markdown",
   "metadata": {},
   "source": [
    "## Use Case"
   ]
  },
  {
   "cell_type": "markdown",
   "metadata": {},
   "source": [
    "## Code Execution"
   ]
  },
  {
   "cell_type": "markdown",
   "metadata": {},
   "source": [
    "## Project Design"
   ]
  },
  {
   "cell_type": "markdown",
   "metadata": {},
   "source": [
    "## Code Interaction with Database"
   ]
  },
  {
   "cell_type": "code",
   "execution_count": 3,
   "metadata": {},
   "outputs": [],
   "source": [
    "# Run Flask in a separate process\n",
    "def run_flask():\n",
    "    app.run(port=5000, debug=False, use_reloader=False)\n",
    "\n",
    "flask_process = multiprocessing.Process(target=run_flask)\n",
    "flask_process.start()"
   ]
  },
  {
   "cell_type": "code",
   "execution_count": 4,
   "metadata": {},
   "outputs": [
    {
     "data": {
      "text/html": [
       "\n",
       "        <iframe\n",
       "            width=\"640\"\n",
       "            height=\"480\"\n",
       "            src=\"http://localhost:5000/ling508/web/stixd.html\"\n",
       "            frameborder=\"0\"\n",
       "            allowfullscreen\n",
       "            \n",
       "        ></iframe>\n",
       "        "
      ],
      "text/plain": [
       "<IPython.lib.display.IFrame at 0x27c8cf8dfd0>"
      ]
     },
     "metadata": {},
     "output_type": "display_data"
    }
   ],
   "source": [
    "# Display the HTML form served by Flask\n",
    "display(IFrame(\"http://localhost:5000/ling508/web/stixd.html\", width=640, height=480))"
   ]
  },
  {
   "cell_type": "markdown",
   "metadata": {},
   "source": [
    "## Test Cases"
   ]
  },
  {
   "cell_type": "markdown",
   "metadata": {},
   "source": [
    "### All Test Cases"
   ]
  },
  {
   "cell_type": "code",
   "execution_count": 5,
   "metadata": {},
   "outputs": [
    {
     "name": "stdout",
     "output_type": "stream",
     "text": [
      "\u001b[32m.\u001b[0m\u001b[32m.\u001b[0m\u001b[32m.\u001b[0m\u001b[32m.\u001b[0m\u001b[32m.\u001b[0m\u001b[32m.\u001b[0m\u001b[32m.\u001b[0m\u001b[32m.\u001b[0m\u001b[32m.\u001b[0m\u001b[32m.\u001b[0m\u001b[32m.\u001b[0m\u001b[32m.\u001b[0m\u001b[32m.\u001b[0m\u001b[32m.\u001b[0m\u001b[32m.\u001b[0m\u001b[32m.\u001b[0m\u001b[32m.\u001b[0m\u001b[32m.\u001b[0m\u001b[32m.\u001b[0m\u001b[32m.\u001b[0m\u001b[32m.\u001b[0m\u001b[32m.\u001b[0m\u001b[32m.\u001b[0m\u001b[32m.\u001b[0m\u001b[32m.\u001b[0m\u001b[32m.\u001b[0m\u001b[32m.\u001b[0m\u001b[32m.\u001b[0m\u001b[32m.\u001b[0m\u001b[32m.\u001b[0m\u001b[32m.\u001b[0m\u001b[32m.\u001b[0m\u001b[32m                                         [100%]\u001b[0m\n",
      "\u001b[32m\u001b[32m\u001b[1m32 passed\u001b[0m\u001b[32m in 38.25s\u001b[0m\u001b[0m\n"
     ]
    },
    {
     "data": {
      "text/plain": [
       "<ExitCode.OK: 0>"
      ]
     },
     "execution_count": 5,
     "metadata": {},
     "output_type": "execute_result"
    }
   ],
   "source": [
    "# Run all tests in the test directory (~30-60 seconds)\n",
    "pytest.main([TEST_DIR, VERBOSITY, TRACEBACK])\n"
   ]
  },
  {
   "cell_type": "markdown",
   "metadata": {},
   "source": [
    "### Test Case 10: doc_scrapper"
   ]
  },
  {
   "cell_type": "code",
   "execution_count": 6,
   "metadata": {},
   "outputs": [
    {
     "name": "stdout",
     "output_type": "stream",
     "text": [
      "\u001b[1m============================= test session starts =============================\u001b[0m\n",
      "platform win32 -- Python 3.12.4, pytest-8.3.2, pluggy-1.5.0 -- d:\\OneDrive\\Code\\hltms\\stixd\\.venv\\Scripts\\python.exe\n",
      "cachedir: .pytest_cache\n",
      "rootdir: d:\\OneDrive\\Code\\hltms\\stixd\n",
      "configfile: pytest.ini\n",
      "plugins: anyio-4.4.0, mock-3.14.0\n",
      "\u001b[1mcollecting ... \u001b[0mcollected 5 items\n",
      "\n",
      "..\\tests\\test_10_doc_scrapper.py::test_fetch_html \u001b[32mPASSED\u001b[0m\u001b[32m                 [ 20%]\u001b[0m\n",
      "..\\tests\\test_10_doc_scrapper.py::test_allows_scraping \u001b[32mPASSED\u001b[0m\u001b[32m            [ 40%]\u001b[0m\n",
      "..\\tests\\test_10_doc_scrapper.py::test_convert_html_to_markdown \u001b[32mPASSED\u001b[0m\u001b[32m   [ 60%]\u001b[0m\n",
      "..\\tests\\test_10_doc_scrapper.py::test_save_markdown \u001b[32mPASSED\u001b[0m\u001b[32m              [ 80%]\u001b[0m\n",
      "..\\tests\\test_10_doc_scrapper.py::test_process_url \u001b[32mPASSED\u001b[0m\u001b[32m                [100%]\u001b[0m\n",
      "\n",
      "\u001b[32m============================== \u001b[32m\u001b[1m5 passed\u001b[0m\u001b[32m in 0.13s\u001b[0m\u001b[32m ==============================\u001b[0m\n"
     ]
    },
    {
     "data": {
      "text/plain": [
       "<ExitCode.OK: 0>"
      ]
     },
     "execution_count": 6,
     "metadata": {},
     "output_type": "execute_result"
    }
   ],
   "source": [
    "# Run a specific test file in the test directory\n",
    "test_file = \"test_10_doc_scrapper.py\"\n",
    "pytest.main([os.path.join(TEST_DIR, test_file), \"-v\", \"--tb=line\"])\n"
   ]
  },
  {
   "cell_type": "markdown",
   "metadata": {},
   "source": [
    "### Test Case 20: gen_clex_uuid"
   ]
  },
  {
   "cell_type": "code",
   "execution_count": 7,
   "metadata": {},
   "outputs": [
    {
     "name": "stdout",
     "output_type": "stream",
     "text": [
      "\u001b[1m============================= test session starts =============================\u001b[0m\n",
      "platform win32 -- Python 3.12.4, pytest-8.3.2, pluggy-1.5.0 -- d:\\OneDrive\\Code\\hltms\\stixd\\.venv\\Scripts\\python.exe\n",
      "cachedir: .pytest_cache\n",
      "rootdir: d:\\OneDrive\\Code\\hltms\\stixd\n",
      "configfile: pytest.ini\n",
      "plugins: anyio-4.4.0, mock-3.14.0\n",
      "\u001b[1mcollecting ... \u001b[0mcollected 2 items\n",
      "\n",
      "..\\tests\\test_20_gen_clex_uuid.py::test_generate_uuid[4-x-stixd-clex-https:\\raw.githubusercontent.com\\ciioprof0\\stixd\\03c934281777fecd3edb1d8622310bbf0839c17d\\tests\\test_clex.pl] \u001b[32mPASSED\u001b[0m\u001b[32m [ 50%]\u001b[0m\n",
      "..\\tests\\test_20_gen_clex_uuid.py::test_generate_uuid[4-x-stixd-clex-https:\\raw.githubusercontent.com\\Attempto\\Clex\\20960a5ce07776cb211a8cfb25dc8c81fcdf25e2\\clex_lexicon.pl] \u001b[32mPASSED\u001b[0m\u001b[32m [100%]\u001b[0m\n",
      "\n",
      "\u001b[32m============================== \u001b[32m\u001b[1m2 passed\u001b[0m\u001b[32m in 0.10s\u001b[0m\u001b[32m ==============================\u001b[0m\n"
     ]
    },
    {
     "data": {
      "text/plain": [
       "<ExitCode.OK: 0>"
      ]
     },
     "execution_count": 7,
     "metadata": {},
     "output_type": "execute_result"
    }
   ],
   "source": [
    "# Run a specific test file in the test directory\n",
    "test_file = \"test_20_gen_clex_uuid.py\"\n",
    "pytest.main([os.path.join(TEST_DIR, test_file), \"-v\", \"--tb=line\"])\n"
   ]
  },
  {
   "cell_type": "markdown",
   "metadata": {},
   "source": [
    "### Test Case 30: mysql_repo"
   ]
  },
  {
   "cell_type": "code",
   "execution_count": 8,
   "metadata": {},
   "outputs": [
    {
     "name": "stdout",
     "output_type": "stream",
     "text": [
      "\u001b[1m============================= test session starts =============================\u001b[0m\n",
      "platform win32 -- Python 3.12.4, pytest-8.3.2, pluggy-1.5.0 -- d:\\OneDrive\\Code\\hltms\\stixd\\.venv\\Scripts\\python.exe\n",
      "cachedir: .pytest_cache\n",
      "rootdir: d:\\OneDrive\\Code\\hltms\\stixd\n",
      "configfile: pytest.ini\n",
      "plugins: anyio-4.4.0, mock-3.14.0\n",
      "\u001b[1mcollecting ... \u001b[0mcollected 2 items\n",
      "\n",
      "..\\tests\\test_30_mysql_repo.py::test_save_and_load_entry \u001b[32mPASSED\u001b[0m\u001b[32m          [ 50%]\u001b[0m\n",
      "..\\tests\\test_30_mysql_repo.py::test_find_entry_by_id \u001b[32mPASSED\u001b[0m\u001b[32m             [100%]\u001b[0m\n",
      "\n",
      "\u001b[32m============================== \u001b[32m\u001b[1m2 passed\u001b[0m\u001b[32m in 0.07s\u001b[0m\u001b[32m ==============================\u001b[0m\n"
     ]
    },
    {
     "data": {
      "text/plain": [
       "<ExitCode.OK: 0>"
      ]
     },
     "execution_count": 8,
     "metadata": {},
     "output_type": "execute_result"
    }
   ],
   "source": [
    "# Run a specific test file in the test directory\n",
    "test_file = \"test_30_mysql_repo.py\"\n",
    "pytest.main([os.path.join(TEST_DIR, test_file), \"-v\", \"--tb=line\"])\n"
   ]
  },
  {
   "cell_type": "markdown",
   "metadata": {},
   "source": [
    "### Test Case 40: nlp_manager"
   ]
  },
  {
   "cell_type": "code",
   "execution_count": 9,
   "metadata": {},
   "outputs": [
    {
     "name": "stdout",
     "output_type": "stream",
     "text": [
      "\u001b[1m============================= test session starts =============================\u001b[0m\n",
      "platform win32 -- Python 3.12.4, pytest-8.3.2, pluggy-1.5.0 -- d:\\OneDrive\\Code\\hltms\\stixd\\.venv\\Scripts\\python.exe\n",
      "cachedir: .pytest_cache\n",
      "rootdir: d:\\OneDrive\\Code\\hltms\\stixd\n",
      "configfile: pytest.ini\n",
      "plugins: anyio-4.4.0, mock-3.14.0\n",
      "\u001b[1mcollecting ... \u001b[0mcollected 2 items\n",
      "\n",
      "..\\tests\\test_40_nlp_manager.py::test_process_text \u001b[32mPASSED\u001b[0m\u001b[32m                [ 50%]\u001b[0m\n",
      "..\\tests\\test_40_nlp_manager.py::test_process_sentence \u001b[32mPASSED\u001b[0m\u001b[32m            [100%]\u001b[0m\n",
      "\n",
      "\u001b[32m============================== \u001b[32m\u001b[1m2 passed\u001b[0m\u001b[32m in 0.08s\u001b[0m\u001b[32m ==============================\u001b[0m\n"
     ]
    },
    {
     "data": {
      "text/plain": [
       "<ExitCode.OK: 0>"
      ]
     },
     "execution_count": 9,
     "metadata": {},
     "output_type": "execute_result"
    }
   ],
   "source": [
    "# Run a specific test file in the test directory\n",
    "test_file = \"test_40_nlp_manager.py\"\n",
    "pytest.main([os.path.join(TEST_DIR, test_file), \"-v\", \"--tb=line\"])\n"
   ]
  },
  {
   "cell_type": "markdown",
   "metadata": {},
   "source": [
    "### Test Case 50: doc_manager"
   ]
  },
  {
   "cell_type": "code",
   "execution_count": 10,
   "metadata": {},
   "outputs": [
    {
     "name": "stdout",
     "output_type": "stream",
     "text": [
      "\u001b[1m============================= test session starts =============================\u001b[0m\n",
      "platform win32 -- Python 3.12.4, pytest-8.3.2, pluggy-1.5.0 -- d:\\OneDrive\\Code\\hltms\\stixd\\.venv\\Scripts\\python.exe\n",
      "cachedir: .pytest_cache\n",
      "rootdir: d:\\OneDrive\\Code\\hltms\\stixd\n",
      "configfile: pytest.ini\n",
      "plugins: anyio-4.4.0, mock-3.14.0\n",
      "\u001b[1mcollecting ... \u001b[0mcollected 3 items\n",
      "\n",
      "..\\tests\\test_50_doc_manager.py::test_create_document \u001b[32mPASSED\u001b[0m\u001b[32m             [ 33%]\u001b[0m\n",
      "..\\tests\\test_50_doc_manager.py::test_link_document \u001b[32mPASSED\u001b[0m\u001b[32m               [ 66%]\u001b[0m\n",
      "..\\tests\\test_50_doc_manager.py::test_process_document_text \u001b[32mPASSED\u001b[0m\u001b[32m       [100%]\u001b[0m\n",
      "\n",
      "\u001b[32m============================== \u001b[32m\u001b[1m3 passed\u001b[0m\u001b[32m in 0.11s\u001b[0m\u001b[32m ==============================\u001b[0m\n"
     ]
    },
    {
     "data": {
      "text/plain": [
       "<ExitCode.OK: 0>"
      ]
     },
     "execution_count": 10,
     "metadata": {},
     "output_type": "execute_result"
    }
   ],
   "source": [
    "# Run a specific test file in the test directory\n",
    "test_file = \"test_50_doc_manager.py\"\n",
    "pytest.main([os.path.join(TEST_DIR, test_file), \"-v\", \"--tb=line\"])\n"
   ]
  },
  {
   "cell_type": "markdown",
   "metadata": {},
   "source": [
    "### Test Case 53: sent_manager"
   ]
  },
  {
   "cell_type": "code",
   "execution_count": 11,
   "metadata": {},
   "outputs": [
    {
     "name": "stdout",
     "output_type": "stream",
     "text": [
      "\u001b[1m============================= test session starts =============================\u001b[0m\n",
      "platform win32 -- Python 3.12.4, pytest-8.3.2, pluggy-1.5.0 -- d:\\OneDrive\\Code\\hltms\\stixd\\.venv\\Scripts\\python.exe\n",
      "cachedir: .pytest_cache\n",
      "rootdir: d:\\OneDrive\\Code\\hltms\\stixd\n",
      "configfile: pytest.ini\n",
      "plugins: anyio-4.4.0, mock-3.14.0\n",
      "\u001b[1mcollecting ... \u001b[0mcollected 3 items\n",
      "\n",
      "..\\tests\\test_53_sent_manager.py::test_create_sentence \u001b[32mPASSED\u001b[0m\u001b[32m            [ 33%]\u001b[0m\n",
      "..\\tests\\test_53_sent_manager.py::test_link_sentence \u001b[32mPASSED\u001b[0m\u001b[32m              [ 66%]\u001b[0m\n",
      "..\\tests\\test_53_sent_manager.py::test_process_sentence_text \u001b[32mPASSED\u001b[0m\u001b[32m      [100%]\u001b[0m\n",
      "\n",
      "\u001b[32m============================== \u001b[32m\u001b[1m3 passed\u001b[0m\u001b[32m in 0.12s\u001b[0m\u001b[32m ==============================\u001b[0m\n"
     ]
    },
    {
     "data": {
      "text/plain": [
       "<ExitCode.OK: 0>"
      ]
     },
     "execution_count": 11,
     "metadata": {},
     "output_type": "execute_result"
    }
   ],
   "source": [
    "# Run a specific test file in the test directory\n",
    "test_file = \"test_53_sent_manager.py\"\n",
    "pytest.main([os.path.join(TEST_DIR, test_file), \"-v\", \"--tb=line\"])\n"
   ]
  },
  {
   "cell_type": "markdown",
   "metadata": {},
   "source": [
    "### Test Case 57: lexicon_manager"
   ]
  },
  {
   "cell_type": "code",
   "execution_count": 12,
   "metadata": {},
   "outputs": [
    {
     "name": "stdout",
     "output_type": "stream",
     "text": [
      "\u001b[1m============================= test session starts =============================\u001b[0m\n",
      "platform win32 -- Python 3.12.4, pytest-8.3.2, pluggy-1.5.0 -- d:\\OneDrive\\Code\\hltms\\stixd\\.venv\\Scripts\\python.exe\n",
      "cachedir: .pytest_cache\n",
      "rootdir: d:\\OneDrive\\Code\\hltms\\stixd\n",
      "configfile: pytest.ini\n",
      "plugins: anyio-4.4.0, mock-3.14.0\n",
      "\u001b[1mcollecting ... \u001b[0mcollected 3 items\n",
      "\n",
      "..\\tests\\test_57_lexicon_manager.py::test_create_lexicon_entry \u001b[32mPASSED\u001b[0m\u001b[32m    [ 33%]\u001b[0m\n",
      "..\\tests\\test_57_lexicon_manager.py::test_link_lexicon_entry \u001b[32mPASSED\u001b[0m\u001b[32m      [ 66%]\u001b[0m\n",
      "..\\tests\\test_57_lexicon_manager.py::test_process_word \u001b[32mPASSED\u001b[0m\u001b[32m            [100%]\u001b[0m\n",
      "\n",
      "\u001b[32m============================== \u001b[32m\u001b[1m3 passed\u001b[0m\u001b[32m in 0.09s\u001b[0m\u001b[32m ==============================\u001b[0m\n"
     ]
    },
    {
     "data": {
      "text/plain": [
       "<ExitCode.OK: 0>"
      ]
     },
     "execution_count": 12,
     "metadata": {},
     "output_type": "execute_result"
    }
   ],
   "source": [
    "# Run a specific test file in the test directory\n",
    "test_file = \"test_57_lexicon_manager.py\"\n",
    "pytest.main([os.path.join(TEST_DIR, test_file), \"-v\", \"--tb=line\"])\n"
   ]
  },
  {
   "cell_type": "markdown",
   "metadata": {},
   "source": [
    "### Test Case 70: clex_importer_local"
   ]
  },
  {
   "cell_type": "code",
   "execution_count": 13,
   "metadata": {},
   "outputs": [
    {
     "name": "stdout",
     "output_type": "stream",
     "text": [
      "\u001b[1m============================= test session starts =============================\u001b[0m\n",
      "platform win32 -- Python 3.12.4, pytest-8.3.2, pluggy-1.5.0 -- d:\\OneDrive\\Code\\hltms\\stixd\\.venv\\Scripts\\python.exe\n",
      "cachedir: .pytest_cache\n",
      "rootdir: d:\\OneDrive\\Code\\hltms\\stixd\n",
      "configfile: pytest.ini\n",
      "plugins: anyio-4.4.0, mock-3.14.0\n",
      "\u001b[1mcollecting ... \u001b[0mcollected 4 items\n",
      "\n",
      "..\\tests\\test_70_clex_importer_local.py::test_import_clex_entries[1-adv-fast-fast-None-67e9b1c5cbd53045919deda792be49b18b41a09b3bd328f9cc406bb27d951f62] \u001b[32mPASSED\u001b[0m\u001b[32m [ 25%]\u001b[0m\n",
      "..\\tests\\test_70_clex_importer_local.py::test_import_clex_entries[19-noun_pl-months-month-neutr-6e7ab17fe3f242d10f360197f40646b443db6079d730e9d746c96824a2606336] \u001b[32mPASSED\u001b[0m\u001b[32m [ 50%]\u001b[0m\n",
      "..\\tests\\test_70_clex_importer_local.py::test_import_clex_entries[39-iv_finsg-walks-walk-None-f02be7a15dcd7cca79dc9b1c141991d479120352658c50030c7268da9372e6ff] \u001b[32mPASSED\u001b[0m\u001b[32m [ 75%]\u001b[0m\n",
      "..\\tests\\test_70_clex_importer_local.py::test_import_clex_entries[58-dv_pp-succeeded-succeed-as-8ee745975fad537905042b710e2f602f6c6bbe6c72f123b3596ce0b962f2b23f] "
     ]
    }
   ],
   "source": [
    "# Run a specific test file in the test directory (~ 10 seconds)\n",
    "test_file = \"test_70_clex_importer_local.py\"\n",
    "pytest.main([os.path.join(TEST_DIR, test_file), \"-v\", \"--tb=line\"])\n"
   ]
  },
  {
   "cell_type": "markdown",
   "metadata": {},
   "source": [
    "### Test Case 75: clex_importer_ci"
   ]
  },
  {
   "cell_type": "code",
   "execution_count": null,
   "metadata": {},
   "outputs": [],
   "source": [
    "# Run a specific test file in the test directory\n",
    "test_file = \"test_75_clex_importer_ci.py\"\n",
    "pytest.main([os.path.join(TEST_DIR, test_file), \"-v\", \"--tb=line\"])\n"
   ]
  },
  {
   "cell_type": "markdown",
   "metadata": {},
   "source": [
    "### Test Case 80: api"
   ]
  },
  {
   "cell_type": "code",
   "execution_count": null,
   "metadata": {},
   "outputs": [],
   "source": [
    "# Run a specific test file in the test directory\n",
    "test_file = \"test_80_api.py\"\n",
    "pytest.main([os.path.join(TEST_DIR, test_file), \"-v\", \"--tb=line\"])\n"
   ]
  },
  {
   "cell_type": "markdown",
   "metadata": {},
   "source": [
    "### Test Case 90: e2e_local"
   ]
  },
  {
   "cell_type": "code",
   "execution_count": null,
   "metadata": {},
   "outputs": [],
   "source": [
    "# Run a specific test file in the test directory (~15 seconds)\n",
    "test_file = \"test_90_e2e_local.py\"\n",
    "pytest.main([os.path.join(TEST_DIR, test_file), \"-v\", \"--tb=line\"])\n"
   ]
  },
  {
   "cell_type": "markdown",
   "metadata": {},
   "source": [
    "### Test Case 95: e2e_ci"
   ]
  },
  {
   "cell_type": "code",
   "execution_count": null,
   "metadata": {},
   "outputs": [],
   "source": [
    "# Run a specific test file in the test directory (~15 seconds)\n",
    "test_file = \"test_95_e2e_ci.py\"\n",
    "pytest.main([os.path.join(TEST_DIR, test_file), \"-v\", \"--tb=line\"])\n"
   ]
  }
 ],
 "metadata": {
  "kernelspec": {
   "display_name": ".venv",
   "language": "python",
   "name": "python3"
  },
  "language_info": {
   "codemirror_mode": {
    "name": "ipython",
    "version": 3
   },
   "file_extension": ".py",
   "mimetype": "text/x-python",
   "name": "python",
   "nbconvert_exporter": "python",
   "pygments_lexer": "ipython3",
   "version": "3.12.4"
  }
 },
 "nbformat": 4,
 "nbformat_minor": 2
}
